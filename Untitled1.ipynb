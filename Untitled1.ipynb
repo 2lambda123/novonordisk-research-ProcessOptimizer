{
 "cells": [
  {
   "cell_type": "code",
   "execution_count": 1,
   "metadata": {},
   "outputs": [],
   "source": [
    "from ProcessOptimizer.space.constraints import Constraints, Single, Exclusive, Inclusive, check_constraints, check_bounds, check_value\n",
    "from ProcessOptimizer import Optimizer\n",
    "from ProcessOptimizer.space import Real, Integer, Categorical, Space"
   ]
  },
  {
   "cell_type": "code",
   "execution_count": 2,
   "metadata": {},
   "outputs": [],
   "source": [
    "space = Space([\n",
    "        Real(1, 10),\n",
    "        Real(1, 10),\n",
    "        Real(1, 10),\n",
    "        Integer(0, 10),\n",
    "        Integer(0, 10),\n",
    "        Integer(0, 10),\n",
    "        Categorical(list('abcdefg')),\n",
    "        Categorical(list('abcdefg')),\n",
    "        Categorical(list('abcdefg'))\n",
    "    ])"
   ]
  },
  {
   "cell_type": "code",
   "execution_count": 3,
   "metadata": {},
   "outputs": [],
   "source": [
    "cons_list = [Single(0,5.0,'real'),Single(3,5,'integer')]\n",
    "cons_list_2 = [Single(0,4.0,'real'),Single(3,4,'integer')]\n",
    "cons = Constraints(cons_list,space)\n",
    "cons_2 = Constraints(cons_list_2,space)"
   ]
  },
  {
   "cell_type": "code",
   "execution_count": 4,
   "metadata": {},
   "outputs": [
    {
     "name": "stdout",
     "output_type": "stream",
     "text": [
      "ye\n"
     ]
    },
    {
     "data": {
      "text/plain": [
       "True"
      ]
     },
     "execution_count": 4,
     "metadata": {},
     "output_type": "execute_result"
    }
   ],
   "source": [
    "opt = Optimizer(space, \"ET\", acq_optimizer=\"sampling\",n_initial_points = 3)\n",
    "opt.add_constraints(cons)\n",
    "next_x= opt.ask()\n",
    "next_x[0] == 5.0"
   ]
  },
  {
   "cell_type": "code",
   "execution_count": 5,
   "metadata": {},
   "outputs": [
    {
     "data": {
      "text/plain": [
       "True"
      ]
     },
     "execution_count": 5,
     "metadata": {},
     "output_type": "execute_result"
    }
   ],
   "source": [
    "next_x[0] == 5.0"
   ]
  },
  {
   "cell_type": "code",
   "execution_count": 6,
   "metadata": {},
   "outputs": [
    {
     "data": {
      "text/plain": [
       "Constraints([Single(dimension=0, value=5.0, dimension_type=real), Single(dimension=3, value=5, dimension_type=integer)])"
      ]
     },
     "execution_count": 6,
     "metadata": {},
     "output_type": "execute_result"
    }
   ],
   "source": [
    "opt.constraints"
   ]
  },
  {
   "cell_type": "code",
   "execution_count": 15,
   "metadata": {},
   "outputs": [
    {
     "data": {
      "text/plain": [
       "[3.198091703917907,\n",
       " 7.954303392576094,\n",
       " 3.0622631003656267,\n",
       " 3,\n",
       " 0,\n",
       " 9,\n",
       " 'd',\n",
       " 'b',\n",
       " 'd']"
      ]
     },
     "execution_count": 15,
     "metadata": {},
     "output_type": "execute_result"
    }
   ],
   "source": [
    "next_x"
   ]
  },
  {
   "cell_type": "code",
   "execution_count": 6,
   "metadata": {},
   "outputs": [],
   "source": [
    "opt = Optimizer(space, \"ET\", acq_optimizer=\"sampling\",n_initial_points = 2)"
   ]
  },
  {
   "cell_type": "code",
   "execution_count": 8,
   "metadata": {},
   "outputs": [],
   "source": [
    "opt.add_constraints(cons)"
   ]
  },
  {
   "cell_type": "code",
   "execution_count": 12,
   "metadata": {},
   "outputs": [
    {
     "name": "stdout",
     "output_type": "stream",
     "text": [
      "yo\n",
      "yo\n"
     ]
    },
    {
     "data": {
      "text/plain": [
       "          fun: 2\n",
       "    func_vals: array([2, 2, 2, 2])\n",
       "       models: [ExtraTreesRegressor(bootstrap=False, criterion='mse', max_depth=None,\n",
       "          max_features='auto', max_leaf_nodes=None, min_samples_leaf=3,\n",
       "          min_samples_split=2, min_variance=0.0,\n",
       "          min_weight_fraction_leaf=0.0, n_estimators=100, n_jobs=1,\n",
       "          oob_score=False, random_state=209944960, verbose=0,\n",
       "          warm_start=False), ExtraTreesRegressor(bootstrap=False, criterion='mse', max_depth=None,\n",
       "          max_features='auto', max_leaf_nodes=None, min_samples_leaf=3,\n",
       "          min_samples_split=2, min_variance=0.0,\n",
       "          min_weight_fraction_leaf=0.0, n_estimators=100, n_jobs=1,\n",
       "          oob_score=False, random_state=209944960, verbose=0,\n",
       "          warm_start=False), ExtraTreesRegressor(bootstrap=False, criterion='mse', max_depth=None,\n",
       "          max_features='auto', max_leaf_nodes=None, min_samples_leaf=3,\n",
       "          min_samples_split=2, min_variance=0.0,\n",
       "          min_weight_fraction_leaf=0.0, n_estimators=100, n_jobs=1,\n",
       "          oob_score=False, random_state=209944960, verbose=0,\n",
       "          warm_start=False)]\n",
       " random_state: <mtrand.RandomState object at 0x7fedc006a8b8>\n",
       "        space: Space([Real(low=1, high=10, prior='uniform', transform='identity'),\n",
       "       Real(low=1, high=10, prior='uniform', transform='identity'),\n",
       "       Real(low=1, high=10, prior='uniform', transform='identity'),\n",
       "       Integer(low=0, high=10),\n",
       "       Integer(low=0, high=10),\n",
       "       Integer(low=0, high=10),\n",
       "       Categorical(categories=('a', 'b', 'c', 'd', 'e', 'f', 'g'), prior=None),\n",
       "       Categorical(categories=('a', 'b', 'c', 'd', 'e', 'f', 'g'), prior=None),\n",
       "       Categorical(categories=('a', 'b', 'c', 'd', 'e', 'f', 'g'), prior=None)])\n",
       "        specs: None\n",
       "            x: [3.7811612470156417, 3.2690283217995755, 9.039321024650208, 3, 1, 8, 'b', 'g', 'e']\n",
       "      x_iters: [[3.7811612470156417, 3.2690283217995755, 9.039321024650208, 3, 1, 8, 'b', 'g', 'e'], [5.9396779905750545, 6.770672201523967, 7.184692876368773, 10, 4, 10, 'f', 'g', 'a'], [5.0, 5.99616750103751, 8.898845118530705, 5, 0, 0, 'a', 'd', 'f'], [5.0, 7.344821012302407, 9.318167060272977, 5, 8, 3, 'e', 'd', 'a']]"
      ]
     },
     "execution_count": 12,
     "metadata": {},
     "output_type": "execute_result"
    }
   ],
   "source": [
    "opt.add_constraints(cons)\n",
    "next_x= opt.ask()\n",
    "opt.tell(next_x,2)"
   ]
  },
  {
   "cell_type": "code",
   "execution_count": 6,
   "metadata": {},
   "outputs": [
    {
     "data": {
      "text/plain": [
       "[5.635051115790367,\n",
       " 5.891664201745231,\n",
       " 6.024075485199965,\n",
       " 7,\n",
       " 9,\n",
       " 7,\n",
       " 'd',\n",
       " 'f',\n",
       " 'a']"
      ]
     },
     "execution_count": 6,
     "metadata": {},
     "output_type": "execute_result"
    }
   ],
   "source": [
    "next_x"
   ]
  },
  {
   "cell_type": "code",
   "execution_count": 4,
   "metadata": {},
   "outputs": [],
   "source": [
    "cons = Constraints(cons_list,space)"
   ]
  },
  {
   "cell_type": "code",
   "execution_count": 5,
   "metadata": {},
   "outputs": [],
   "source": [
    "sample = [0]*space.n_dims"
   ]
  },
  {
   "cell_type": "code",
   "execution_count": 6,
   "metadata": {},
   "outputs": [],
   "source": [
    "sample[0] = 5.1"
   ]
  },
  {
   "cell_type": "code",
   "execution_count": 47,
   "metadata": {},
   "outputs": [
    {
     "data": {
      "text/plain": [
       "[5.1, 0, 0, 0, 0, 0, 0, 0, 0]"
      ]
     },
     "execution_count": 47,
     "metadata": {},
     "output_type": "execute_result"
    }
   ],
   "source": [
    "sample"
   ]
  },
  {
   "cell_type": "code",
   "execution_count": 48,
   "metadata": {},
   "outputs": [
    {
     "data": {
      "text/plain": [
       "False"
      ]
     },
     "execution_count": 48,
     "metadata": {},
     "output_type": "execute_result"
    }
   ],
   "source": [
    "cons.validate_sample(sample)"
   ]
  },
  {
   "cell_type": "code",
   "execution_count": 49,
   "metadata": {},
   "outputs": [
    {
     "data": {
      "text/plain": [
       "[[Inclusive(dimension=0, bounds=(1.0, 2.0), space_Type=real),\n",
       "  Inclusive(dimension=0, bounds=(3.0, 4.0), space_Type=real),\n",
       "  Inclusive(dimension=0, bounds=(5.0, 6.0), space_Type=real)],\n",
       " [],\n",
       " [],\n",
       " [],\n",
       " [],\n",
       " [],\n",
       " [],\n",
       " [],\n",
       " []]"
      ]
     },
     "execution_count": 49,
     "metadata": {},
     "output_type": "execute_result"
    }
   ],
   "source": [
    "cons.inclusive"
   ]
  },
  {
   "cell_type": "code",
   "execution_count": 51,
   "metadata": {},
   "outputs": [],
   "source": [
    "dim = 0"
   ]
  },
  {
   "cell_type": "code",
   "execution_count": 52,
   "metadata": {},
   "outputs": [
    {
     "name": "stdout",
     "output_type": "stream",
     "text": [
      "Inclusive(dimension=0, bounds=(1.0, 2.0), space_Type=real)\n",
      "Inclusive(dimension=0, bounds=(3.0, 4.0), space_Type=real)\n",
      "Inclusive(dimension=0, bounds=(5.0, 6.0), space_Type=real)\n"
     ]
    }
   ],
   "source": [
    "for constraint in cons.inclusive[dim]:\n",
    "    print(constraint)"
   ]
  },
  {
   "cell_type": "code",
   "execution_count": 57,
   "metadata": {},
   "outputs": [],
   "source": [
    "constraint = cons.inclusive[dim][2]"
   ]
  },
  {
   "cell_type": "code",
   "execution_count": 58,
   "metadata": {},
   "outputs": [
    {
     "data": {
      "text/plain": [
       "True"
      ]
     },
     "execution_count": 58,
     "metadata": {},
     "output_type": "execute_result"
    }
   ],
   "source": [
    "constraint.validate_constraints(sample[dim])"
   ]
  },
  {
   "cell_type": "code",
   "execution_count": 62,
   "metadata": {},
   "outputs": [],
   "source": [
    "for dim in range(len(sample)):\n",
    "    if cons.single[dim]:\n",
    "        if not cons.single[dim].validate_constraints(sample[dim]):\n",
    "            pass\n",
    "            #print(dim)\n",
    "            #print(False)\n",
    "    if cons.inclusive[dim]:\n",
    "        value_is_valid = False\n",
    "        for constraint in cons.inclusive[dim]:\n",
    "            # We go through all inlcusive constraints for this dimension and if the value is not found to be included in any\n",
    "            # of the bounds of the constraints we return false\n",
    "            if constraint.validate_constraints(sample[dim]):\n",
    "                value_is_valid = True\n",
    "                break\n",
    "        if not value_is_valid:\n",
    "            print(dim)\n",
    "            print(False)\n",
    "\n",
    "    for constraint in cons.exclusive[dim]:\n",
    "        # The first time a value is inside of the exlcuded bounds we return false\n",
    "        if not constraint.validate_constraints(sample[dim]):\n",
    "            pass\n",
    "            #print(dim)\n",
    "            #print(False)"
   ]
  },
  {
   "cell_type": "code",
   "execution_count": 7,
   "metadata": {},
   "outputs": [
    {
     "data": {
      "text/plain": [
       "Constraints([Inclusive(dimension=0, bounds=(1.0, 2.0), space_Type=real), Inclusive(dimension=0, bounds=(3.0, 4.0), space_Type=real), Inclusive(dimension=0, bounds=(5.0, 6.0), space_Type=real)])"
      ]
     },
     "execution_count": 7,
     "metadata": {},
     "output_type": "execute_result"
    }
   ],
   "source": [
    "cons"
   ]
  },
  {
   "cell_type": "code",
   "execution_count": 8,
   "metadata": {},
   "outputs": [
    {
     "data": {
      "text/plain": [
       "[[Inclusive(dimension=0, bounds=(1.0, 2.0), space_Type=real),\n",
       "  Inclusive(dimension=0, bounds=(3.0, 4.0), space_Type=real),\n",
       "  Inclusive(dimension=0, bounds=(5.0, 6.0), space_Type=real)],\n",
       " [],\n",
       " [],\n",
       " [],\n",
       " [],\n",
       " [],\n",
       " [],\n",
       " [],\n",
       " []]"
      ]
     },
     "execution_count": 8,
     "metadata": {},
     "output_type": "execute_result"
    }
   ],
   "source": [
    "cons.inclusive"
   ]
  },
  {
   "cell_type": "code",
   "execution_count": 15,
   "metadata": {},
   "outputs": [],
   "source": [
    "a = cons.rvs(n_samples = 100,random_state = 100)"
   ]
  },
  {
   "cell_type": "code",
   "execution_count": 18,
   "metadata": {},
   "outputs": [],
   "source": [
    "b = cons.rvs(n_samples = 100,random_state = 10)"
   ]
  },
  {
   "cell_type": "code",
   "execution_count": 19,
   "metadata": {},
   "outputs": [
    {
     "data": {
      "text/plain": [
       "False"
      ]
     },
     "execution_count": 19,
     "metadata": {},
     "output_type": "execute_result"
    }
   ],
   "source": [
    "b == a"
   ]
  },
  {
   "cell_type": "code",
   "execution_count": 12,
   "metadata": {},
   "outputs": [
    {
     "data": {
      "text/plain": [
       "9"
      ]
     },
     "execution_count": 12,
     "metadata": {},
     "output_type": "execute_result"
    }
   ],
   "source": [
    "len(a[0])"
   ]
  },
  {
   "cell_type": "code",
   "execution_count": 14,
   "metadata": {},
   "outputs": [
    {
     "data": {
      "text/plain": [
       "9"
      ]
     },
     "execution_count": 14,
     "metadata": {},
     "output_type": "execute_result"
    }
   ],
   "source": [
    "space.n_dims"
   ]
  },
  {
   "cell_type": "code",
   "execution_count": null,
   "metadata": {},
   "outputs": [],
   "source": []
  }
 ],
 "metadata": {
  "kernelspec": {
   "display_name": "Python 3",
   "language": "python",
   "name": "python3"
  },
  "language_info": {
   "codemirror_mode": {
    "name": "ipython",
    "version": 3
   },
   "file_extension": ".py",
   "mimetype": "text/x-python",
   "name": "python",
   "nbconvert_exporter": "python",
   "pygments_lexer": "ipython3",
   "version": "3.6.8"
  }
 },
 "nbformat": 4,
 "nbformat_minor": 2
}
