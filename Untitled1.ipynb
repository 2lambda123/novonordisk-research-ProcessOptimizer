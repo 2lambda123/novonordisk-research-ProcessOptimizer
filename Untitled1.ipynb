{
 "cells": [
  {
   "cell_type": "code",
   "execution_count": 1,
   "metadata": {},
   "outputs": [],
   "source": [
    "from ProcessOptimizer.space.constraints import Constraints, Single, Exclusive, Inclusive, check_constraints, check_bounds, check_value\n",
    "from ProcessOptimizer import optimizer\n",
    "from ProcessOptimizer.space import Real, Integer, Categorical, Space"
   ]
  },
  {
   "cell_type": "code",
   "execution_count": 2,
   "metadata": {},
   "outputs": [],
   "source": [
    "cons_list = [Inclusive(0,(1.0,2.0),'real'),Inclusive(0,(3.0,4.0),'real'),Inclusive(0,(5.0,6.0),'real')]"
   ]
  },
  {
   "cell_type": "code",
   "execution_count": 3,
   "metadata": {},
   "outputs": [],
   "source": [
    "space = Space([\n",
    "        Real(1, 10),\n",
    "        Real(1, 10),\n",
    "        Real(1, 10),\n",
    "        Integer(0, 10),\n",
    "        Integer(0, 10),\n",
    "        Integer(0, 10),\n",
    "        Categorical(list('abcdefg')),\n",
    "        Categorical(list('abcdefg')),\n",
    "        Categorical(list('abcdefg'))\n",
    "    ])"
   ]
  },
  {
   "cell_type": "code",
   "execution_count": 4,
   "metadata": {},
   "outputs": [],
   "source": [
    "cons = Constraints(cons_list,space)"
   ]
  },
  {
   "cell_type": "code",
   "execution_count": 5,
   "metadata": {},
   "outputs": [],
   "source": [
    "sample = [0]*space.n_dims"
   ]
  },
  {
   "cell_type": "code",
   "execution_count": 6,
   "metadata": {},
   "outputs": [],
   "source": [
    "sample[0] = 5.1"
   ]
  },
  {
   "cell_type": "code",
   "execution_count": 47,
   "metadata": {},
   "outputs": [
    {
     "data": {
      "text/plain": [
       "[5.1, 0, 0, 0, 0, 0, 0, 0, 0]"
      ]
     },
     "execution_count": 47,
     "metadata": {},
     "output_type": "execute_result"
    }
   ],
   "source": [
    "sample"
   ]
  },
  {
   "cell_type": "code",
   "execution_count": 48,
   "metadata": {},
   "outputs": [
    {
     "data": {
      "text/plain": [
       "False"
      ]
     },
     "execution_count": 48,
     "metadata": {},
     "output_type": "execute_result"
    }
   ],
   "source": [
    "cons.validate_sample(sample)"
   ]
  },
  {
   "cell_type": "code",
   "execution_count": 49,
   "metadata": {},
   "outputs": [
    {
     "data": {
      "text/plain": [
       "[[Inclusive(dimension=0, bounds=(1.0, 2.0), space_Type=real),\n",
       "  Inclusive(dimension=0, bounds=(3.0, 4.0), space_Type=real),\n",
       "  Inclusive(dimension=0, bounds=(5.0, 6.0), space_Type=real)],\n",
       " [],\n",
       " [],\n",
       " [],\n",
       " [],\n",
       " [],\n",
       " [],\n",
       " [],\n",
       " []]"
      ]
     },
     "execution_count": 49,
     "metadata": {},
     "output_type": "execute_result"
    }
   ],
   "source": [
    "cons.inclusive"
   ]
  },
  {
   "cell_type": "code",
   "execution_count": 51,
   "metadata": {},
   "outputs": [],
   "source": [
    "dim = 0"
   ]
  },
  {
   "cell_type": "code",
   "execution_count": 52,
   "metadata": {},
   "outputs": [
    {
     "name": "stdout",
     "output_type": "stream",
     "text": [
      "Inclusive(dimension=0, bounds=(1.0, 2.0), space_Type=real)\n",
      "Inclusive(dimension=0, bounds=(3.0, 4.0), space_Type=real)\n",
      "Inclusive(dimension=0, bounds=(5.0, 6.0), space_Type=real)\n"
     ]
    }
   ],
   "source": [
    "for constraint in cons.inclusive[dim]:\n",
    "    print(constraint)"
   ]
  },
  {
   "cell_type": "code",
   "execution_count": 57,
   "metadata": {},
   "outputs": [],
   "source": [
    "constraint = cons.inclusive[dim][2]"
   ]
  },
  {
   "cell_type": "code",
   "execution_count": 58,
   "metadata": {},
   "outputs": [
    {
     "data": {
      "text/plain": [
       "True"
      ]
     },
     "execution_count": 58,
     "metadata": {},
     "output_type": "execute_result"
    }
   ],
   "source": [
    "constraint.validate_constraints(sample[dim])"
   ]
  },
  {
   "cell_type": "code",
   "execution_count": 62,
   "metadata": {},
   "outputs": [],
   "source": [
    "for dim in range(len(sample)):\n",
    "    if cons.single[dim]:\n",
    "        if not cons.single[dim].validate_constraints(sample[dim]):\n",
    "            pass\n",
    "            #print(dim)\n",
    "            #print(False)\n",
    "    if cons.inclusive[dim]:\n",
    "        value_is_valid = False\n",
    "        for constraint in cons.inclusive[dim]:\n",
    "            # We go through all inlcusive constraints for this dimension and if the value is not found to be included in any\n",
    "            # of the bounds of the constraints we return false\n",
    "            if constraint.validate_constraints(sample[dim]):\n",
    "                value_is_valid = True\n",
    "                break\n",
    "        if not value_is_valid:\n",
    "            print(dim)\n",
    "            print(False)\n",
    "\n",
    "    for constraint in cons.exclusive[dim]:\n",
    "        # The first time a value is inside of the exlcuded bounds we return false\n",
    "        if not constraint.validate_constraints(sample[dim]):\n",
    "            pass\n",
    "            #print(dim)\n",
    "            #print(False)"
   ]
  },
  {
   "cell_type": "code",
   "execution_count": 7,
   "metadata": {},
   "outputs": [
    {
     "data": {
      "text/plain": [
       "Constraints([Inclusive(dimension=0, bounds=(1.0, 2.0), space_Type=real), Inclusive(dimension=0, bounds=(3.0, 4.0), space_Type=real), Inclusive(dimension=0, bounds=(5.0, 6.0), space_Type=real)])"
      ]
     },
     "execution_count": 7,
     "metadata": {},
     "output_type": "execute_result"
    }
   ],
   "source": [
    "cons"
   ]
  },
  {
   "cell_type": "code",
   "execution_count": 8,
   "metadata": {},
   "outputs": [
    {
     "data": {
      "text/plain": [
       "[[Inclusive(dimension=0, bounds=(1.0, 2.0), space_Type=real),\n",
       "  Inclusive(dimension=0, bounds=(3.0, 4.0), space_Type=real),\n",
       "  Inclusive(dimension=0, bounds=(5.0, 6.0), space_Type=real)],\n",
       " [],\n",
       " [],\n",
       " [],\n",
       " [],\n",
       " [],\n",
       " [],\n",
       " [],\n",
       " []]"
      ]
     },
     "execution_count": 8,
     "metadata": {},
     "output_type": "execute_result"
    }
   ],
   "source": [
    "cons.inclusive"
   ]
  },
  {
   "cell_type": "code",
   "execution_count": 15,
   "metadata": {},
   "outputs": [],
   "source": [
    "a = cons.rvs(n_samples = 100,random_state = 100)"
   ]
  },
  {
   "cell_type": "code",
   "execution_count": 18,
   "metadata": {},
   "outputs": [],
   "source": [
    "b = cons.rvs(n_samples = 100,random_state = 10)"
   ]
  },
  {
   "cell_type": "code",
   "execution_count": 19,
   "metadata": {},
   "outputs": [
    {
     "data": {
      "text/plain": [
       "False"
      ]
     },
     "execution_count": 19,
     "metadata": {},
     "output_type": "execute_result"
    }
   ],
   "source": [
    "b == a"
   ]
  },
  {
   "cell_type": "code",
   "execution_count": 12,
   "metadata": {},
   "outputs": [
    {
     "data": {
      "text/plain": [
       "9"
      ]
     },
     "execution_count": 12,
     "metadata": {},
     "output_type": "execute_result"
    }
   ],
   "source": [
    "len(a[0])"
   ]
  },
  {
   "cell_type": "code",
   "execution_count": 14,
   "metadata": {},
   "outputs": [
    {
     "data": {
      "text/plain": [
       "9"
      ]
     },
     "execution_count": 14,
     "metadata": {},
     "output_type": "execute_result"
    }
   ],
   "source": [
    "space.n_dims"
   ]
  },
  {
   "cell_type": "code",
   "execution_count": null,
   "metadata": {},
   "outputs": [],
   "source": []
  }
 ],
 "metadata": {
  "kernelspec": {
   "display_name": "Python 3",
   "language": "python",
   "name": "python3"
  },
  "language_info": {
   "codemirror_mode": {
    "name": "ipython",
    "version": 3
   },
   "file_extension": ".py",
   "mimetype": "text/x-python",
   "name": "python",
   "nbconvert_exporter": "python",
   "pygments_lexer": "ipython3",
   "version": "3.6.7"
  }
 },
 "nbformat": 4,
 "nbformat_minor": 2
}
