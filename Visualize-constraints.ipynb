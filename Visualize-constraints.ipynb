{
 "cells": [
  {
   "cell_type": "code",
   "execution_count": 5,
   "metadata": {},
   "outputs": [],
   "source": [
    "from ProcessOptimizer.space import constraints\n",
    "import matplotlib.pyplot as plt\n",
    "import numpy as np\n",
    "from sklearn.datasets import load_breast_cancer\n",
    "from sklearn.tree import DecisionTreeClassifier\n",
    "from sklearn.model_selection import cross_val_score\n",
    "from ProcessOptimizer.space import Integer, Categorical, Real, Space\n",
    "from ProcessOptimizer.space.constraints import Constraints, Single, Sum, Conditional, Exclusive, Inclusive\n",
    "from ProcessOptimizer import plots, gp_minimize\n",
    "from ProcessOptimizer.plots import plot_objective\n",
    "from ProcessOptimizer import bokeh_plot, Optimizer\n",
    "from ProcessOptimizer.space import constraints\n",
    "import time\n",
    "import copy"
   ]
  },
  {
   "cell_type": "code",
   "execution_count": 7,
   "metadata": {},
   "outputs": [],
   "source": [
    "space = Space([[0.0,1.0],[0.0,1.0]])"
   ]
  },
  {
   "cell_type": "code",
   "execution_count": 9,
   "metadata": {},
   "outputs": [
    {
     "data": {
      "text/plain": [
       "Space([Real(low=0.0, high=1.0, prior='uniform', transform='identity'),\n",
       "       Real(low=0.0, high=1.0, prior='uniform', transform='identity')])"
      ]
     },
     "execution_count": 9,
     "metadata": {},
     "output_type": "execute_result"
    }
   ],
   "source": [
    "space"
   ]
  },
  {
   "cell_type": "code",
   "execution_count": 115,
   "metadata": {},
   "outputs": [],
   "source": [
    "cons = Constraints(\n",
    "    [Inclusive(0,[0.2,0.7],'real'),\n",
    "    Exclusive(1,[0.2,0.7],'real')],\n",
    "    space\n",
    "    )"
   ]
  },
  {
   "cell_type": "code",
   "execution_count": 116,
   "metadata": {},
   "outputs": [
    {
     "data": {
      "text/plain": [
       "[[0.6276843471027154, 0.7378644856281992]]"
      ]
     },
     "execution_count": 116,
     "metadata": {},
     "output_type": "execute_result"
    }
   ],
   "source": [
    "cons.rvs()"
   ]
  },
  {
   "cell_type": "code",
   "execution_count": 117,
   "metadata": {},
   "outputs": [],
   "source": [
    "res = 10\n",
    "vals = [0.5,0.5]\n",
    "samples_valid_list = []\n",
    "for i_dim in range(space.n_dims):\n",
    "    low = space.dimensions[i_dim].low\n",
    "    high = space.dimensions[i_dim].high\n",
    "    x = np.linspace(low,high,res)\n",
    "    samples_valid = [False]*len(x)\n",
    "    for i_x in range(len(x)):\n",
    "        vals_test = vals.copy()\n",
    "        vals_test[i_dim] = x[i_x]\n",
    "        samples_valid[i_x] = cons.validate_sample(vals_test)\n",
    "    samples_valid_list.append(samples_valid)"
   ]
  },
  {
   "cell_type": "code",
   "execution_count": 101,
   "metadata": {},
   "outputs": [],
   "source": [
    "# Create polygons\n",
    "x_all = []\n",
    "y_all = []\n",
    "polygoing = False\n",
    "samples_valid = samples_valid_list[0]\n",
    "x_poly_start = 0\n",
    "x_poly_end = 0\n",
    "for i in range(len(x)):\n",
    "    if not polygoing and not samples_valid[i]: # Start of region\n",
    "        polygoing = not polygoing\n",
    "        x_poly_start = x[i]\n",
    "    elif polygoing and samples_valid[i]:\n",
    "        polygoing = not polygoing\n",
    "        x_poly_end = x[i]\n",
    "        x_all.append([x_poly_start,x_poly_end])\n",
    "    elif i == len(x)-1 and polygoing:\n",
    "        x_poly_end = x[i]\n",
    "        x_all.append([x_poly_start,x_poly_end])\n",
    "        "
   ]
  },
  {
   "cell_type": "code",
   "execution_count": 129,
   "metadata": {},
   "outputs": [],
   "source": [
    "res = 10\n",
    "vals = [0.5,0.1]\n",
    "poly_all = []\n",
    "samples_valid_list = []\n",
    "for i_dim in range(space.n_dims):\n",
    "    low = space.dimensions[i_dim].low\n",
    "    high = space.dimensions[i_dim].high\n",
    "    x = np.linspace(low,high,res)\n",
    "    samples_valid = [False]*len(x)\n",
    "    for i_x in range(len(x)):\n",
    "        vals_test = vals.copy()\n",
    "        vals_test[i_dim] = x[i_x]\n",
    "        samples_valid[i_x] = cons.validate_sample(vals_test)\n",
    "    samples_valid\n",
    "\n",
    "    x_all = []\n",
    "    polygoing = False\n",
    "    x_poly_start = 0\n",
    "    x_poly_end = 0\n",
    "    for i in range(len(x)):\n",
    "        if not polygoing and not samples_valid[i]: # Start of region\n",
    "            polygoing = not polygoing\n",
    "            x_poly_start = x[i]\n",
    "        elif polygoing and samples_valid[i]:\n",
    "            polygoing = not polygoing\n",
    "            x_poly_end = x[i]\n",
    "            x_all.append([x_poly_start,x_poly_end])\n",
    "        elif i == len(x)-1 and polygoing:\n",
    "            x_poly_end = x[i]\n",
    "            x_all.append([x_poly_start,x_poly_end])\n",
    "    poly_all.append(x_all)"
   ]
  },
  {
   "cell_type": "code",
   "execution_count": 131,
   "metadata": {},
   "outputs": [
    {
     "data": {
      "text/plain": [
       "[[[0.0, 0.2222222222222222], [0.7777777777777777, 1.0]],\n",
       " [[0.2222222222222222, 0.7777777777777777]]]"
      ]
     },
     "execution_count": 131,
     "metadata": {},
     "output_type": "execute_result"
    }
   ],
   "source": [
    "poly_all"
   ]
  },
  {
   "cell_type": "code",
   "execution_count": 134,
   "metadata": {},
   "outputs": [
    {
     "data": {
      "image/png": "[encoded data removed]",
      "text/plain": [
       "<Figure size 432x288 with 2 Axes>"
      ]
     },
     "metadata": {
      "needs_background": "light"
     },
     "output_type": "display_data"
    }
   ],
   "source": [
    "fig,ax = plt.subplots(1,space.n_dims)\n",
    "yf = [0,1,1,0]\n",
    "for i in range(space.n_dims):\n",
    "    x_all = poly_all[i]\n",
    "    for pols in x_all:\n",
    "        xf = [pols[0]]*2+[pols[1]]*2\n",
    "        ax[i].plot(np.linspace(0,1,10),np.linspace(0,1,10))\n",
    "        ax[i].fill(xf,yf,alpha = 0.5,facecolor='red', edgecolor='red', linewidth=3)"
   ]
  },
  {
   "cell_type": "code",
   "execution_count": 133,
   "metadata": {},
   "outputs": [
    {
     "data": {
      "text/plain": [
       "array([0.        , 0.11111111, 0.22222222, 0.33333333, 0.44444444,\n",
       "       0.55555556, 0.66666667, 0.77777778, 0.88888889, 1.        ])"
      ]
     },
     "execution_count": 133,
     "metadata": {},
     "output_type": "execute_result"
    }
   ],
   "source": [
    "np.linspace(0,1,10)"
   ]
  },
  {
   "cell_type": "code",
   "execution_count": 108,
   "metadata": {},
   "outputs": [
    {
     "name": "stdout",
     "output_type": "stream",
     "text": [
      "[0.0, 0.0, 0.2222222222222222, 0.2222222222222222]\n",
      "[0.7777777777777777, 0.7777777777777777, 1.0, 1.0]\n"
     ]
    },
    {
     "data": {
      "image/png": "[encoded data removed]",
      "text/plain": [
       "<Figure size 576x576 with 1 Axes>"
      ]
     },
     "metadata": {
      "needs_background": "light"
     },
     "output_type": "display_data"
    }
   ],
   "source": [
    "plt.figure(figsize=(8, 8))\n",
    "plt.axis('equal')\n",
    "yf = [0,1,1,0]\n",
    "for pols in x_all:\n",
    "    xf = [pols[0]]*2+[pols[1]]*2\n",
    "    print(xf)\n",
    "    plt.fill(xf,yf,alpha = 0.5,facecolor='red', edgecolor='red', linewidth=3)\n",
    "plt.show()"
   ]
  },
  {
   "cell_type": "code",
   "execution_count": null,
   "metadata": {},
   "outputs": [],
   "source": []
  },
  {
   "cell_type": "code",
   "execution_count": 72,
   "metadata": {},
   "outputs": [
    {
     "data": {
      "text/plain": [
       "[True, True, True, True, True, True, True, True, True, True]"
      ]
     },
     "execution_count": 72,
     "metadata": {},
     "output_type": "execute_result"
    }
   ],
   "source": [
    "samples_valid_list[1]"
   ]
  },
  {
   "cell_type": "code",
   "execution_count": 58,
   "metadata": {},
   "outputs": [],
   "source": [
    "a = vals.copy()"
   ]
  },
  {
   "cell_type": "code",
   "execution_count": 59,
   "metadata": {},
   "outputs": [
    {
     "data": {
      "text/plain": [
       "[0.5, 0.5]"
      ]
     },
     "execution_count": 59,
     "metadata": {},
     "output_type": "execute_result"
    }
   ],
   "source": [
    "vals"
   ]
  },
  {
   "cell_type": "code",
   "execution_count": 60,
   "metadata": {},
   "outputs": [],
   "source": [
    "a[0] = 2"
   ]
  },
  {
   "cell_type": "code",
   "execution_count": 61,
   "metadata": {},
   "outputs": [
    {
     "data": {
      "text/plain": [
       "[0.5, 0.5]"
      ]
     },
     "execution_count": 61,
     "metadata": {},
     "output_type": "execute_result"
    }
   ],
   "source": [
    "vals"
   ]
  },
  {
   "cell_type": "code",
   "execution_count": 37,
   "metadata": {},
   "outputs": [
    {
     "data": {
      "text/plain": [
       "Real(low=0.0, high=1.0, prior='uniform', transform='identity')"
      ]
     },
     "execution_count": 37,
     "metadata": {},
     "output_type": "execute_result"
    }
   ],
   "source": [
    "space.dimensions[0]"
   ]
  },
  {
   "cell_type": "code",
   "execution_count": 36,
   "metadata": {},
   "outputs": [
    {
     "data": {
      "text/plain": [
       "array([1., 2.])"
      ]
     },
     "execution_count": 36,
     "metadata": {},
     "output_type": "execute_result"
    }
   ],
   "source": [
    "np.linspace(1,2,2)"
   ]
  },
  {
   "cell_type": "code",
   "execution_count": null,
   "metadata": {},
   "outputs": [],
   "source": []
  }
 ],
 "metadata": {
  "kernelspec": {
   "display_name": "Python 3",
   "language": "python",
   "name": "python3"
  },
  "language_info": {
   "codemirror_mode": {
    "name": "ipython",
    "version": 3
   },
   "file_extension": ".py",
   "mimetype": "text/x-python",
   "name": "python",
   "nbconvert_exporter": "python",
   "pygments_lexer": "ipython3",
   "version": "3.6.8"
  }
 },
 "nbformat": 4,
 "nbformat_minor": 2
}
