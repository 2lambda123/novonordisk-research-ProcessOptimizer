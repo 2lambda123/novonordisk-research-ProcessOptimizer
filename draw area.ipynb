{
 "cells": [
  {
   "cell_type": "code",
   "execution_count": 16,
   "metadata": {},
   "outputs": [],
   "source": [
    "import numpy as np\n",
    "import math\n",
    "import matplotlib.pyplot as plt"
   ]
  },
  {
   "cell_type": "code",
   "execution_count": 17,
   "metadata": {},
   "outputs": [],
   "source": [
    "xi=np.linspace(0,10,100)\n",
    "yi = np.linspace(0,10,100)\n",
    "zi = np.zeros([len(xi),len(yi)])"
   ]
  },
  {
   "cell_type": "code",
   "execution_count": 22,
   "metadata": {},
   "outputs": [
    {
     "data": {
      "text/plain": [
       "array([ 0.        ,  0.1010101 ,  0.2020202 ,  0.3030303 ,  0.4040404 ,\n",
       "        0.50505051,  0.60606061,  0.70707071,  0.80808081,  0.90909091,\n",
       "        1.01010101,  1.11111111,  1.21212121,  1.31313131,  1.41414141,\n",
       "        1.51515152,  1.61616162,  1.71717172,  1.81818182,  1.91919192,\n",
       "        2.02020202,  2.12121212,  2.22222222,  2.32323232,  2.42424242,\n",
       "        2.52525253,  2.62626263,  2.72727273,  2.82828283,  2.92929293,\n",
       "        3.03030303,  3.13131313,  3.23232323,  3.33333333,  3.43434343,\n",
       "        3.53535354,  3.63636364,  3.73737374,  3.83838384,  3.93939394,\n",
       "        4.04040404,  4.14141414,  4.24242424,  4.34343434,  4.44444444,\n",
       "        4.54545455,  4.64646465,  4.74747475,  4.84848485,  4.94949495,\n",
       "        5.05050505,  5.15151515,  5.25252525,  5.35353535,  5.45454545,\n",
       "        5.55555556,  5.65656566,  5.75757576,  5.85858586,  5.95959596,\n",
       "        6.06060606,  6.16161616,  6.26262626,  6.36363636,  6.46464646,\n",
       "        6.56565657,  6.66666667,  6.76767677,  6.86868687,  6.96969697,\n",
       "        7.07070707,  7.17171717,  7.27272727,  7.37373737,  7.47474747,\n",
       "        7.57575758,  7.67676768,  7.77777778,  7.87878788,  7.97979798,\n",
       "        8.08080808,  8.18181818,  8.28282828,  8.38383838,  8.48484848,\n",
       "        8.58585859,  8.68686869,  8.78787879,  8.88888889,  8.98989899,\n",
       "        9.09090909,  9.19191919,  9.29292929,  9.39393939,  9.49494949,\n",
       "        9.5959596 ,  9.6969697 ,  9.7979798 ,  9.8989899 , 10.        ])"
      ]
     },
     "execution_count": 22,
     "metadata": {},
     "output_type": "execute_result"
    }
   ],
   "source": [
    "xi"
   ]
  },
  {
   "cell_type": "code",
   "execution_count": 23,
   "metadata": {},
   "outputs": [],
   "source": [
    "x_plot = []\n",
    "y_\n",
    "for i in range(len(xi)):\n",
    "    for j in range(len(yi)):\n",
    "        zi[i,j] = math.sqrt((abs(xi[i]-5))**2+(abs(yi[j]-5))**2)"
   ]
  },
  {
   "cell_type": "code",
   "execution_count": null,
   "metadata": {},
   "outputs": [],
   "source": [
    "#get plot\n"
   ]
  },
  {
   "cell_type": "code",
   "execution_count": 45,
   "metadata": {},
   "outputs": [
    {
     "data": {
      "image/png": "[encoded data removed]",
      "text/plain": [
       "<Figure size 432x288 with 1 Axes>"
      ]
     },
     "metadata": {
      "needs_background": "light"
     },
     "output_type": "display_data"
    }
   ],
   "source": [
    "colors='r'\n",
    "fig = plt.figure()\n",
    "ax = fig.add_axes([0.,0.,1.,1.])\n",
    "ax = plt.gca()\n",
    "ax.contour(xi, yi, zi, levels = [1], locator=None, colors='black',linestyles=('--',),linewidths=(2,))\n",
    "ax.plot([1,2,3],[1,2,3])\n",
    "plt.axis('off')\n",
    "fig.canvas.draw()"
   ]
  },
  {
   "cell_type": "code",
   "execution_count": 46,
   "metadata": {},
   "outputs": [
    {
     "data": {
      "image/png": "[encoded data removed]",
      "text/plain": [
       "<Figure size 432x288 with 1 Axes>"
      ]
     },
     "metadata": {
      "needs_background": "light"
     },
     "output_type": "display_data"
    }
   ],
   "source": [
    "\n",
    "fig = plt.figure()\n",
    "ax = fig.add_axes([0.,0.,1.,1.])\n",
    "ax = plt.gca()\n",
    "ax.contourf(xi, yi, zi, 10, locator=None, cmap='viridis_r')\n",
    "ax.contour(xi, yi, zi, levels = [1], locator=None, colors='black',linestyles=('--',),linewidths=(2,))\n",
    "ax.plot([1,2,3],[1,2,3])\n",
    "plt.axis('off')\n",
    "fig.canvas.draw()"
   ]
  },
  {
   "cell_type": "code",
   "execution_count": 3,
   "metadata": {},
   "outputs": [
    {
     "data": {
      "image/png": "[encoded data removed]",
      "text/plain": [
       "<Figure size 432x288 with 2 Axes>"
      ]
     },
     "metadata": {
      "needs_background": "light"
     },
     "output_type": "display_data"
    }
   ],
   "source": [
    "from matplotlib import pyplot as plt\n",
    "import numpy as np\n",
    "\n",
    "# create dummy invisible image\n",
    "# (use the colormap you want to have on the colorbar)\n",
    "img = plt.imshow(np.array([[0,1]]), cmap=\"Oranges\")\n",
    "img.set_visible(False)\n",
    "\n",
    "plt.colorbar(orientation=\"vertical\")\n",
    "plt.show()"
   ]
  },
  {
   "cell_type": "code",
   "execution_count": 32,
   "metadata": {},
   "outputs": [
    {
     "data": {
      "text/plain": [
       "(0.0, 1.0, 0.0, 1.0)"
      ]
     },
     "execution_count": 32,
     "metadata": {},
     "output_type": "execute_result"
    },
    {
     "data": {
      "image/png": "[encoded data removed]",
      "text/plain": [
       "<Figure size 108x648 with 2 Axes>"
      ]
     },
     "metadata": {
      "needs_background": "light"
     },
     "output_type": "display_data"
    }
   ],
   "source": [
    "import matplotlib.pyplot as plt\n",
    "import numpy as np\n",
    "\n",
    "a = np.array([[0,1]])\n",
    "plt.figure(figsize=(1.5, 9))\n",
    "img = plt.imshow(a, cmap=\"viridis_r\")\n",
    "plt.gca().set_visible(False)\n",
    "cax = plt.axes([0.1, 0.2, 0.8, 0.6])\n",
    "plt.colorbar(orientation='vertical', cax=cax)\n",
    "plt.axis('off')"
   ]
  },
  {
   "cell_type": "code",
   "execution_count": null,
   "metadata": {},
   "outputs": [],
   "source": [
    "fig = plt.figure()\n",
    "ax = fig.add_axes([0.,0.,1.,1.])\n",
    "ax = plt.gca()"
   ]
  },
  {
   "cell_type": "code",
   "execution_count": null,
   "metadata": {},
   "outputs": [],
   "source": [
    "a = np.array([[0,1]])\n",
    "    fig = plt.figure(figsize=(1.5, 9))\n",
    "    img = plt.imshow(a, cmap=\"viridis_r\")\n",
    "    plt.gca().set_visible(False)\n",
    "    cax = plt.axes([0.1, 0.2, 0.8, 0.6])\n",
    "    plt.colorbar(orientation='vertical', cax=cax)"
   ]
  },
  {
   "cell_type": "code",
   "execution_count": 33,
   "metadata": {},
   "outputs": [],
   "source": [
    "def get_colorbar_as_rgba():\n",
    "    # plots a colorbar without axes. Code stolen from \n",
    "    a = np.array([[0,1]])\n",
    "    fig = plt.figure(figsize=(1.5, 9))\n",
    "    img = plt.imshow(a, cmap=\"viridis_r\")\n",
    "    plt.gca().set_visible(False)\n",
    "    cax = plt.axes([0.1, 0.2, 0.8, 0.6])\n",
    "    plt.colorbar(orientation='vertical', cax=cax)\n",
    "    plt.axis('off')\n",
    "    fig.canvas.draw()\n",
    "    # Grab the pixel buffer and dump it into a numpy array\n",
    "    X = np.array(fig.canvas.renderer._renderer)\n",
    "    xdim= X.shape[1]\n",
    "    ydim= X.shape[0]\n",
    "    # Converting image so that bokeh's image_rgba can read it. (code stolen of the internet)\n",
    "    img = np.empty((ydim, xdim), dtype=np.uint32)\n",
    "    view = img.view(dtype=np.uint8).reshape((ydim, xdim, 4))\n",
    "    view[:,:,:] = np.flipud(X)\n",
    "    plt.close()\n",
    "    return img"
   ]
  },
  {
   "cell_type": "code",
   "execution_count": 34,
   "metadata": {},
   "outputs": [],
   "source": [
    "a=get_colorbar_as_rgba()"
   ]
  },
  {
   "cell_type": "code",
   "execution_count": 35,
   "metadata": {},
   "outputs": [
    {
     "data": {
      "text/plain": [
       "<matplotlib.image.AxesImage at 0x7f2eac7335c0>"
      ]
     },
     "execution_count": 35,
     "metadata": {},
     "output_type": "execute_result"
    },
    {
     "data": {
      "image/png": "[encoded data removed]",
      "text/plain": [
       "<Figure size 432x288 with 1 Axes>"
      ]
     },
     "metadata": {
      "needs_background": "light"
     },
     "output_type": "display_data"
    }
   ],
   "source": [
    "plt.imshow(a)"
   ]
  },
  {
   "cell_type": "code",
   "execution_count": 36,
   "metadata": {},
   "outputs": [
    {
     "data": {
      "text/plain": [
       "[<matplotlib.lines.Line2D at 0x7f2eac696208>]"
      ]
     },
     "execution_count": 36,
     "metadata": {},
     "output_type": "execute_result"
    },
    {
     "data": {
      "image/png": "[encoded data removed]",
      "text/plain": [
       "<Figure size 432x288 with 2 Axes>"
      ]
     },
     "metadata": {
      "needs_background": "light"
     },
     "output_type": "display_data"
    }
   ],
   "source": [
    "from matplotlib import pyplot as plt\n",
    "import numpy as np\n",
    "\n",
    "# create dummy invisible image\n",
    "# (use the colormap you want to have on the colorbar)\n",
    "img = plt.imshow(np.array([[0,1]]), cmap=\"Oranges\")\n",
    "img.set_visible(False)\n",
    "\n",
    "plt.colorbar(orientation=\"vertical\")\n",
    "\n",
    "# add any other things you want to the figure.\n",
    "plt.plot(np.random.rand(30))"
   ]
  },
  {
   "cell_type": "code",
   "execution_count": 90,
   "metadata": {},
   "outputs": [
    {
     "data": {
      "text/plain": [
       "(0.0, 1.0, 0.0, 1.0)"
      ]
     },
     "execution_count": 90,
     "metadata": {},
     "output_type": "execute_result"
    },
    {
     "data": {
      "image/png": "[encoded data removed]",
      "text/plain": [
       "<Figure size 432x288 with 1 Axes>"
      ]
     },
     "metadata": {
      "needs_background": "light"
     },
     "output_type": "display_data"
    }
   ],
   "source": [
    "import matplotlib as mpl\n",
    "import matplotlib.pyplot as plt\n",
    "\n",
    "\n",
    "fig, ax = plt.subplots()\n",
    "col_map = plt.get_cmap('viridis_r')\n",
    "mpl.colorbar.ColorbarBase(ax, cmap=col_map, orientation = 'vertical')\n",
    "plt.axis('off')\n",
    "# As for a more fancy example, you can also give an axes by hand:\n"
   ]
  },
  {
   "cell_type": "code",
   "execution_count": 103,
   "metadata": {},
   "outputs": [
    {
     "data": {
      "text/plain": [
       "<matplotlib.image.AxesImage at 0x7f2eab2ea748>"
      ]
     },
     "execution_count": 103,
     "metadata": {},
     "output_type": "execute_result"
    },
    {
     "data": {
      "image/png": "[encoded data removed]",
      "text/plain": [
       "<Figure size 432x288 with 1 Axes>"
      ]
     },
     "metadata": {
      "needs_background": "light"
     },
     "output_type": "display_data"
    }
   ],
   "source": [
    "import matplotlib as mpl\n",
    "import matplotlib.pyplot as plt\n",
    "\n",
    "\n",
    "fig, ax = plt.subplots()\n",
    "col_map = plt.get_cmap('viridis_r')\n",
    "mpl.colorbar.ColorbarBase(ax, cmap=col_map, orientation = 'vertical')\n",
    "fig.subplots_adjust(top = 1.01,bottom = 0,left = 0,right = 1)\n",
    "plt.axis('off')\n",
    "# As for a more fancy example, you can also give an axes by hand:\n",
    "fig.canvas.draw()\n",
    "# Grab the pixel buffer and dump it into a numpy array\n",
    "X = np.array(fig.canvas.renderer._renderer)\n",
    "xdim= X.shape[1]\n",
    "ydim= X.shape[0]\n",
    "# Converting image so that bokeh's image_rgba can read it. (code stolen of the internet)\n",
    "img = np.empty((ydim, xdim), dtype=np.uint32)\n",
    "view = img.view(dtype=np.uint8).reshape((ydim, xdim, 4))\n",
    "view[:,:,:] = np.flipud(X)\n",
    "plt.close()\n",
    "plt.imshow(view)"
   ]
  },
  {
   "cell_type": "code",
   "execution_count": null,
   "metadata": {},
   "outputs": [],
   "source": [
    "wspace = 0.2  # the amount of width reserved for space between subplots,\n",
    "              # expressed as a fraction of the average axis width\n",
    "hspace = 0.2\n",
    "fig.subplots_adjust(bottom=0.0,left = 0,right=0,top=0)"
   ]
  },
  {
   "cell_type": "code",
   "execution_count": 83,
   "metadata": {},
   "outputs": [
    {
     "data": {
      "text/plain": [
       "<matplotlib.image.AxesImage at 0x7f2eabd0deb8>"
      ]
     },
     "execution_count": 83,
     "metadata": {},
     "output_type": "execute_result"
    },
    {
     "data": {
      "image/png": "[encoded data removed]",
      "text/plain": [
       "<Figure size 432x288 with 1 Axes>"
      ]
     },
     "metadata": {
      "needs_background": "light"
     },
     "output_type": "display_data"
    }
   ],
   "source": [
    "import matplotlib.pyplot as plt\n",
    "import matplotlib as mpl\n",
    "\n",
    "fig, ax = plt.subplots(figsize=(2, ))\n",
    "fig.subplots_adjust(top = 1.01,bottom = 0,left = 0,right = 1)\n",
    "\n",
    "plt.get_cmap('viridis_r')\n",
    "mpl.colorbar.ColorbarBase(ax, cmap=col_map, orientation = 'vertical')\n",
    "plt.axis('off')\n",
    "fig.canvas.draw()\n",
    "# Grab the pixel buffer and dump it into a numpy array\n",
    "X = np.array(fig.canvas.renderer._renderer)\n",
    "xdim= X.shape[1]\n",
    "ydim= X.shape[0]\n",
    "# Converting image so that bokeh's image_rgba can read it. (code stolen of the internet)\n",
    "img = np.empty((ydim, xdim), dtype=np.uint32)\n",
    "view = img.view(dtype=np.uint8).reshape((ydim, xdim, 4))\n",
    "view[:,:,:] = np.flipud(X)\n",
    "plt.close()\n",
    "plt.imshow(img)"
   ]
  },
  {
   "cell_type": "code",
   "execution_count": null,
   "metadata": {},
   "outputs": [],
   "source": []
  },
  {
   "cell_type": "code",
   "execution_count": null,
   "metadata": {},
   "outputs": [],
   "source": []
  }
 ],
 "metadata": {
  "kernelspec": {
   "display_name": "Python 3",
   "language": "python",
   "name": "python3"
  },
  "language_info": {
   "codemirror_mode": {
    "name": "ipython",
    "version": 3
   },
   "file_extension": ".py",
   "mimetype": "text/x-python",
   "name": "python",
   "nbconvert_exporter": "python",
   "pygments_lexer": "ipython3",
   "version": "3.6.8"
  }
 },
 "nbformat": 4,
 "nbformat_minor": 2
}
