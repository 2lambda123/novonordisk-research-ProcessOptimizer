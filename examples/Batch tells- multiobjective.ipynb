{
 "cells": [
  {
   "cell_type": "code",
   "execution_count": 1,
   "id": "inner-harbor",
   "metadata": {},
   "outputs": [],
   "source": [
    "from ProcessOptimizer import Optimizer\n",
    "dims=[(0, 1.0),(0.1,2.0)]\n",
    "opt_single=Optimizer(dims)"
   ]
  },
  {
   "cell_type": "code",
   "execution_count": 2,
   "id": "final-sugar",
   "metadata": {},
   "outputs": [
    {
     "data": {
      "text/plain": [
       "          fun: 1\n",
       "    func_vals: array([1])\n",
       "       models: []\n",
       " random_state: RandomState(MT19937) at 0x1EA9C9A7240\n",
       "        space: Space([Real(low=0, high=1.0, prior='uniform', transform='normalize'),\n",
       "       Real(low=0.1, high=2.0, prior='uniform', transform='normalize')])\n",
       "        specs: None\n",
       "            x: [0.5, 1]\n",
       "      x_iters: [[0.5, 1]]"
      ]
     },
     "execution_count": 2,
     "metadata": {},
     "output_type": "execute_result"
    }
   ],
   "source": [
    "single_point=[0.5,1]\n",
    "single_obj=1\n",
    "opt_single.tell(single_point,single_obj)"
   ]
  },
  {
   "cell_type": "code",
   "execution_count": 3,
   "id": "quarterly-flight",
   "metadata": {},
   "outputs": [],
   "source": [
    "multi_point=[[0.5,1],[0.2,1.8]]\n",
    "multi_obj=[1,1]\n",
    "opt_single.tell(multi_point,multi_obj);"
   ]
  },
  {
   "cell_type": "code",
   "execution_count": 4,
   "id": "injured-drinking",
   "metadata": {},
   "outputs": [
    {
     "data": {
      "text/plain": [
       "[[0.5, 1], [0.5, 1], [0.2, 1.8]]"
      ]
     },
     "execution_count": 4,
     "metadata": {},
     "output_type": "execute_result"
    }
   ],
   "source": [
    "opt_single.Xi"
   ]
  },
  {
   "cell_type": "code",
   "execution_count": 5,
   "id": "mobile-statement",
   "metadata": {},
   "outputs": [
    {
     "data": {
      "text/plain": [
       "[1, 1, 1]"
      ]
     },
     "execution_count": 5,
     "metadata": {},
     "output_type": "execute_result"
    }
   ],
   "source": [
    "opt_single.yi"
   ]
  },
  {
   "cell_type": "code",
   "execution_count": 6,
   "id": "apparent-southeast",
   "metadata": {},
   "outputs": [
    {
     "data": {
      "text/plain": [
       "          fun: 1\n",
       "    func_vals: array([1])\n",
       "     log_time: array([2])\n",
       "       models: []\n",
       " random_state: RandomState(MT19937) at 0x1EA9C9A7240\n",
       "        space: Space([Real(low=0, high=1.0, prior='uniform', transform='normalize'),\n",
       "       Real(low=0.1, high=2.0, prior='uniform', transform='normalize')])\n",
       "        specs: None\n",
       "            x: [0.5, 1]\n",
       "      x_iters: [[0.5, 1]]"
      ]
     },
     "execution_count": 6,
     "metadata": {},
     "output_type": "execute_result"
    }
   ],
   "source": [
    "opt_multi=Optimizer(dims, n_objectives = 2)\n",
    "single_point=[0.5,1]\n",
    "single_obj=[1,2]\n",
    "opt_multi.tell(single_point,single_obj)"
   ]
  },
  {
   "cell_type": "code",
   "execution_count": 7,
   "id": "peaceful-lunch",
   "metadata": {},
   "outputs": [
    {
     "data": {
      "text/plain": [
       "[[0.5, 1]]"
      ]
     },
     "execution_count": 7,
     "metadata": {},
     "output_type": "execute_result"
    }
   ],
   "source": [
    "opt_multi.Xi"
   ]
  },
  {
   "cell_type": "code",
   "execution_count": 8,
   "id": "sonic-provider",
   "metadata": {},
   "outputs": [
    {
     "data": {
      "text/plain": [
       "[[1, 2]]"
      ]
     },
     "execution_count": 8,
     "metadata": {},
     "output_type": "execute_result"
    }
   ],
   "source": [
    "opt_multi.yi"
   ]
  },
  {
   "cell_type": "code",
   "execution_count": 9,
   "id": "informative-transaction",
   "metadata": {},
   "outputs": [],
   "source": [
    "multi_point=[[0.5,1],[0.2,1.8]]\n",
    "multi_obj=[[1,1],[1,1]]\n",
    "opt_multi.tell(multi_point,multi_obj);"
   ]
  },
  {
   "cell_type": "code",
   "execution_count": 10,
   "id": "crazy-immunology",
   "metadata": {},
   "outputs": [
    {
     "data": {
      "text/plain": [
       "[[0.5, 1], [0.5, 1], [0.2, 1.8]]"
      ]
     },
     "execution_count": 10,
     "metadata": {},
     "output_type": "execute_result"
    }
   ],
   "source": [
    "opt_multi.Xi"
   ]
  },
  {
   "cell_type": "code",
   "execution_count": 11,
   "id": "north-columbia",
   "metadata": {},
   "outputs": [
    {
     "data": {
      "text/plain": [
       "[[1, 2], [1, 1], [1, 1]]"
      ]
     },
     "execution_count": 11,
     "metadata": {},
     "output_type": "execute_result"
    }
   ],
   "source": [
    "opt_multi.yi"
   ]
  },
  {
   "cell_type": "code",
   "execution_count": null,
   "id": "reliable-librarian",
   "metadata": {},
   "outputs": [],
   "source": []
  }
 ],
 "metadata": {
  "kernelspec": {
   "display_name": "Python 3",
   "language": "python",
   "name": "python3"
  },
  "language_info": {
   "codemirror_mode": {
    "name": "ipython",
    "version": 3
   },
   "file_extension": ".py",
   "mimetype": "text/x-python",
   "name": "python",
   "nbconvert_exporter": "python",
   "pygments_lexer": "ipython3",
   "version": "3.8.5"
  }
 },
 "nbformat": 4,
 "nbformat_minor": 5
}
