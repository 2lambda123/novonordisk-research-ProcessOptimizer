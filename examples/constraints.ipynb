{
 "cells": [
  {
   "cell_type": "markdown",
   "metadata": {},
   "source": [
    "# Using constraints in optimization loop\n",
    "\n",
    "Sigurd Carlsen, June 2019."
   ]
  },
  {
   "cell_type": "markdown",
   "metadata": {},
   "source": [
    "In real world experiments it is not always possible to maintain the same space as was specified when the experiment was created. For example one could run out of a certain material for the experiment.\n",
    "\n",
    "In these cases costraints come in handy. Instead of redefining our space we just implement constraints on the parameter values that can be used in the experiment. These constraints can be removed or changed as the exeriment changes.\n",
    "\n",
    "So far we have 3 types of constraints: Single, Inclusive and Exclusive.\n",
    "\n",
    "A \"Single\" constraint enforces a specific dimension to take on a specific value.\n",
    "For example: x should always equal 2.0.\n",
    "An \"Inclusive\" constraint forces values to only be the ones included in the constraint.\n",
    "For example: x can only take on values between 2.0 and 3.0\n",
    "An \"Exclusive\" constraint forces values to only be the ones excluded in the constraint.\n",
    "For example: x can not take on values between 2.0 and 3.0"
   ]
  },
  {
   "cell_type": "markdown",
   "metadata": {},
   "source": [
    "This notebook is an example on how to use these constraints.\n",
    "Note that constraints can only be used in conjunction with ask() and tell()\n",
    "\n",
    "Let's start by importing our packages"
   ]
  },
  {
   "cell_type": "code",
   "execution_count": 59,
   "metadata": {},
   "outputs": [
    {
     "data": {
      "text/plain": [
       "<Figure size 432x288 with 0 Axes>"
      ]
     },
     "metadata": {},
     "output_type": "display_data"
    }
   ],
   "source": [
    "from ProcessOptimizer.learning import GaussianProcessRegressor\n",
    "from ProcessOptimizer import Optimizer\n",
    "from ProcessOptimizer.space import constraints, Space\n",
    "from ProcessOptimizer.space.constraints import Single, Inclusive, Exclusive, Constraints, Sum, Conditional\n",
    "from ProcessOptimizer.space import Integer, Categorical, Real\n",
    "import numpy as np\n",
    "import time\n",
    "np.random.seed(1234)\n",
    "\n",
    "%matplotlib inline\n",
    "import matplotlib.pyplot as plt\n",
    "plt.set_cmap(\"viridis\")"
   ]
  },
  {
   "cell_type": "markdown",
   "metadata": {},
   "source": [
    "Then we define our space"
   ]
  },
  {
   "cell_type": "code",
   "execution_count": 71,
   "metadata": {},
   "outputs": [],
   "source": [
    "space = [\n",
    "        Real(1, 4),\n",
    "        Integer(1, 4),\n",
    "        Categorical(list('abcd')),\n",
    "    ]"
   ]
  },
  {
   "cell_type": "markdown",
   "metadata": {},
   "source": [
    "We initialize our optimizer and asks for 5 samples."
   ]
  },
  {
   "cell_type": "code",
   "execution_count": 3,
   "metadata": {},
   "outputs": [
    {
     "name": "stdout",
     "output_type": "stream",
     "text": [
      "[[2.2343118064815393, 4, 'a'], [3.5060862359092537, 3, 'd'], [2.1765381816450544, 3, 'd'], [1.6200909740185605, 2, 'a'], [2.8338292820563438, 3, 'b']]\n"
     ]
    }
   ],
   "source": [
    "opt = Optimizer(space, \"GP\")\n",
    "next_x = opt.ask(n_points = 5)\n",
    "print(next_x)"
   ]
  },
  {
   "cell_type": "markdown",
   "metadata": {},
   "source": [
    "After the optimizer has been initialized we can add constraints to it.\n",
    "This is done by first creating a list of all constraints we want to pass on to the optimizer.\n",
    "Let us start out simple by creating a list with only one constraint.\n",
    "First we try the \"Single\" type constraint."
   ]
  },
  {
   "cell_type": "code",
   "execution_count": 4,
   "metadata": {},
   "outputs": [],
   "source": [
    "constraints_list = [\n",
    "    Single(0, 2.0, 'real')\n",
    "]"
   ]
  },
  {
   "cell_type": "markdown",
   "metadata": {},
   "source": [
    "The first argument to \"Single\" is the index of the dimension for which the constraint should be applied.\n",
    "The second argument is the value of the constraint, and the third argument is the type of dimension.\n",
    "\n",
    "Here we have created a constraint on dimension 0. The type of dimension is set to 'real' as the type of dimension 0 in our space object is of type Real. Because dimension is of type 'real' or value 2.0 is of type float\n",
    "\n",
    "Now we add the constraints to the optimizer and asks for 5 samples to evaluate.\n",
    "Note that adding constraints should always be done by calling set_constraints() to ensure that the optimizer internally handles new constraints correctly. "
   ]
  },
  {
   "cell_type": "code",
   "execution_count": 5,
   "metadata": {},
   "outputs": [],
   "source": [
    "opt.set_constraints(constraints_list)"
   ]
  },
  {
   "cell_type": "markdown",
   "metadata": {},
   "source": [
    "We can get the constraints by calling opt.get_constraints()"
   ]
  },
  {
   "cell_type": "code",
   "execution_count": 6,
   "metadata": {},
   "outputs": [
    {
     "data": {
      "text/plain": [
       "Constraints([Single(dimension=0, value=2.0, dimension_type=real)])"
      ]
     },
     "execution_count": 6,
     "metadata": {},
     "output_type": "execute_result"
    }
   ],
   "source": [
    "opt.get_constraints()"
   ]
  },
  {
   "cell_type": "code",
   "execution_count": 7,
   "metadata": {},
   "outputs": [
    {
     "name": "stdout",
     "output_type": "stream",
     "text": [
      "[[2.0, 2, 'b'], [2.0, 3, 'd'], [2.0, 3, 'c'], [2.0, 2, 'd'], [2.0, 4, 'a']]\n"
     ]
    }
   ],
   "source": [
    "next_x = opt.ask(n_points = 5)\n",
    "print(next_x)"
   ]
  },
  {
   "cell_type": "markdown",
   "metadata": {},
   "source": [
    "Note how all of the samples satisfies the constraint: Dimension 0 is alawys 2.0\n",
    "\n",
    "We can remove the constraints again simply by calling remove_constraints()"
   ]
  },
  {
   "cell_type": "code",
   "execution_count": 8,
   "metadata": {},
   "outputs": [
    {
     "name": "stdout",
     "output_type": "stream",
     "text": [
      "[[1.9126986889774467, 3, 'a'], [3.4801562480678307, 1, 'c'], [3.0837177098353616, 4, 'd'], [2.4269767047331183, 2, 'a'], [1.1783819004534621, 3, 'c']]\n"
     ]
    }
   ],
   "source": [
    "opt.remove_constraints()\n",
    "next_x = opt.ask(n_points = 5)\n",
    "print(next_x)"
   ]
  },
  {
   "cell_type": "markdown",
   "metadata": {},
   "source": [
    "Now let us try with some Inclusive constraints"
   ]
  },
  {
   "cell_type": "code",
   "execution_count": 9,
   "metadata": {},
   "outputs": [],
   "source": [
    "constraints_list = [\n",
    "    Inclusive(1, (2, 3), 'integer'),\n",
    "    Inclusive(2, ('b', 'c'), 'categorical')  \n",
    "]"
   ]
  },
  {
   "cell_type": "markdown",
   "metadata": {},
   "source": [
    "Note how we change the dimension_type arguments to 'integer' and 'categorical' to correspond to the \"Real\" and \"Categorical\" dimension types of dimension 1 and 2.\n",
    "The second argument of Inclusive constraints should be a tuple of length 2 for 'integer' and 'real' dimensions. This tuple defines the lower and upper bound of the constraint.\n",
    "For categorical dimensions the tuple can be more than 2 in length as it describes all the valid values for the dimension."
   ]
  },
  {
   "cell_type": "code",
   "execution_count": 10,
   "metadata": {},
   "outputs": [
    {
     "name": "stdout",
     "output_type": "stream",
     "text": [
      "[[2.363537062587538, 2, 'c'], [3.249128233823785, 3, 'b'], [3.8406282458081247, 3, 'b'], [1.2868561708471424, 2, 'c'], [1.3806085643113244, 3, 'b']]\n"
     ]
    }
   ],
   "source": [
    "opt.set_constraints(constraints_list)\n",
    "next_x = opt.ask(n_points = 5)\n",
    "print(next_x)"
   ]
  },
  {
   "cell_type": "markdown",
   "metadata": {},
   "source": [
    "Now only values between and including 2 and 3 are drawn for dimension 1 and only categorical values of 'b' or 'c' are drawn for dimension 2.\n",
    "Note that calling set_constraints always overwrites all existing constraints in the optimizer"
   ]
  },
  {
   "cell_type": "markdown",
   "metadata": {},
   "source": [
    "Exlusive constraints are called the same way as Inclusive constraints but instead of enforcing that values drawn lie inside the bounds of the constraints values are insted forced to be outside of the bounds of the constraints"
   ]
  },
  {
   "cell_type": "code",
   "execution_count": 11,
   "metadata": {},
   "outputs": [],
   "source": [
    "constraints_list = [\n",
    "    Exclusive(1, (2, 3), 'integer'),\n",
    "    Exclusive(2, ('b', 'c'), 'categorical')  \n",
    "]"
   ]
  },
  {
   "cell_type": "code",
   "execution_count": 12,
   "metadata": {},
   "outputs": [
    {
     "name": "stdout",
     "output_type": "stream",
     "text": [
      "[[1.2162050397680901, 1, 'a'], [2.902282535547783, 1, 'a'], [1.2736914023189785, 4, 'd'], [2.372951482077583, 4, 'a'], [3.281742888265041, 1, 'd']]\n"
     ]
    }
   ],
   "source": [
    "opt.set_constraints(constraints_list)\n",
    "next_x = opt.ask(n_points = 5)\n",
    "print(next_x)"
   ]
  },
  {
   "cell_type": "markdown",
   "metadata": {},
   "source": [
    "We can use multiple constraints on the same dimension as long as they do not conflict with eachother. For example it is not possible to put two different \"Single\" constraints on the same dimension.\n",
    "\n",
    "Here we want values between 1.5 and 2.0 and values between 3.0 and 3.5 to be excluded:"
   ]
  },
  {
   "cell_type": "code",
   "execution_count": 13,
   "metadata": {},
   "outputs": [
    {
     "name": "stdout",
     "output_type": "stream",
     "text": [
      "[[3.5239419562336094, 2, 'd'], [2.5483114437280747, 2, 'd'], [2.932001497433208, 3, 'b'], [3.7643256994769283, 2, 'b'], [2.2528170279123456, 4, 'b'], [2.691135679117284, 4, 'a'], [3.5458515664358865, 3, 'b'], [2.672750803045366, 1, 'b'], [2.8045217055115668, 1, 'a'], [2.0314171305485944, 4, 'd']]\n"
     ]
    }
   ],
   "source": [
    "constraints_list = [\n",
    "    Exclusive(0, (1.5, 2.0), 'real'),\n",
    "    Exclusive(0,( 3.0, 3.5), 'real')\n",
    "]\n",
    "opt.set_constraints(constraints_list)\n",
    "next_x = opt.ask(n_points = 10)\n",
    "print(next_x)"
   ]
  },
  {
   "cell_type": "markdown",
   "metadata": {},
   "source": [
    "The same can be done with Inclusive constraints"
   ]
  },
  {
   "cell_type": "code",
   "execution_count": 14,
   "metadata": {},
   "outputs": [
    {
     "name": "stdout",
     "output_type": "stream",
     "text": [
      "[[3.0064198925237204, 2, 'b'], [3.0870201322786457, 3, 'c'], [1.0508417044642835, 1, 'd'], [1.0410007953189553, 2, 'c'], [3.057916422339514, 1, 'c'], [1.0411683655789739, 3, 'a'], [3.0956011638891425, 3, 'd'], [1.0806456879802708, 4, 'd'], [3.0902907304846536, 4, 'b'], [2.0821359110278896, 1, 'a']]\n"
     ]
    }
   ],
   "source": [
    "constraints_list = [\n",
    "    Inclusive(0, (1.0, 1.1), 'real'),\n",
    "    Inclusive(0, (2.0, 2.1), 'real'),\n",
    "    Inclusive(0, (3.0, 3.1), 'real')\n",
    "]\n",
    "opt.set_constraints(constraints_list)\n",
    "next_x = opt.ask(n_points = 10)\n",
    "print(next_x)"
   ]
  },
  {
   "cell_type": "markdown",
   "metadata": {},
   "source": [
    "We can even mix Inclusive and Exclusive constraints for the same dimension"
   ]
  },
  {
   "cell_type": "code",
   "execution_count": 15,
   "metadata": {},
   "outputs": [
    {
     "name": "stdout",
     "output_type": "stream",
     "text": [
      "[[2.1054498489470848, 3, 'd'], [2.1323260874509113, 2, 'a'], [2.885422721024095, 2, 'a'], [2.9257910391404076, 1, 'c'], [2.7839368748637963, 3, 'b'], [2.1886958843753916, 3, 'c'], [2.8846662347370495, 1, 'b'], [2.9846535526704123, 1, 'c'], [2.0790978037894874, 3, 'c'], [2.7498715802332088, 1, 'c']]\n"
     ]
    }
   ],
   "source": [
    "constraints_list = [\n",
    "    Inclusive(0, (2.0, 3.0), 'real'),\n",
    "    Exclusive(0, (2.3, 2.7), 'real')\n",
    "]\n",
    "opt.set_constraints(constraints_list)\n",
    "next_x = opt.ask(n_points = 10)\n",
    "print(next_x)"
   ]
  },
  {
   "cell_type": "markdown",
   "metadata": {},
   "source": [
    "Whatch out for creating invalid constraint combinations. For example: Inclusive(0,(2.0,3.0),'real') and Exclusive(0,(1.5,3.5),'real') leaves no valid values to be drawn"
   ]
  },
  {
   "cell_type": "markdown",
   "metadata": {},
   "source": [
    "## Using the rvs method\n",
    "So far we have been using the opt.ask() method for drawing samples. We do this to showcase that the constraints are part of the optimizer. However the opt.ask method is inherently very slow and therefore if we want to test the constraints we should use the Constraints- and the Space-classes instead. These are the classes that are being called internally when adding constraints to the optimizer"
   ]
  },
  {
   "cell_type": "code",
   "execution_count": 85,
   "metadata": {},
   "outputs": [
    {
     "data": {
      "text/plain": [
       "[[2.915024805712455, 1, 'a'],\n",
       " [2.195926625981378, 3, 'b'],\n",
       " [2.8293807285916133, 2, 'a'],\n",
       " [2.293188714409953, 2, 'd'],\n",
       " [2.9580626422932843, 4, 'b'],\n",
       " [2.0408250567800668, 1, 'd'],\n",
       " [2.1005586026801506, 4, 'c'],\n",
       " [2.881581505444803, 3, 'd'],\n",
       " [2.832796437798722, 2, 'c'],\n",
       " [2.1248566627069803, 1, 'b']]"
      ]
     },
     "execution_count": 85,
     "metadata": {},
     "output_type": "execute_result"
    }
   ],
   "source": [
    "constraints = Constraints(constraints_list,Space(space))\n",
    "constraints.rvs(n_samples = 10)"
   ]
  },
  {
   "cell_type": "markdown",
   "metadata": {},
   "source": [
    "We can also test if a sample that we are interested in lives up to the constraints"
   ]
  },
  {
   "cell_type": "code",
   "execution_count": 86,
   "metadata": {},
   "outputs": [],
   "source": [
    "sample_valid = [2.1, 2, 'b']\n",
    "sample_not_valid = [1, 2, 'b']"
   ]
  },
  {
   "cell_type": "code",
   "execution_count": 87,
   "metadata": {},
   "outputs": [
    {
     "data": {
      "text/plain": [
       "True"
      ]
     },
     "execution_count": 87,
     "metadata": {},
     "output_type": "execute_result"
    }
   ],
   "source": [
    "constraints.validate_sample(sample_valid)"
   ]
  },
  {
   "cell_type": "code",
   "execution_count": 88,
   "metadata": {},
   "outputs": [
    {
     "data": {
      "text/plain": [
       "False"
      ]
     },
     "execution_count": 88,
     "metadata": {},
     "output_type": "execute_result"
    }
   ],
   "source": [
    "constraints.validate_sample(sample_not_valid)"
   ]
  },
  {
   "cell_type": "markdown",
   "metadata": {},
   "source": [
    "## Sum constraints\n",
    "\"Sum\" is a type of constraints where the sum of specified dimensions should be either less or more than a certain value. Sum constraints only work for non-categorical dimensions.\n",
    "For example if we want to write a constraint like: x0 + x1 < 3:"
   ]
  },
  {
   "cell_type": "code",
   "execution_count": 20,
   "metadata": {},
   "outputs": [],
   "source": [
    "cons = Sum((0,1),4)"
   ]
  },
  {
   "cell_type": "markdown",
   "metadata": {},
   "source": [
    "Here the first argument which is a tuple defines the dimensions which should be included in the sum. In this case dimension 0 and 1. The second argument defines the max value of this sum. In this case 3."
   ]
  },
  {
   "cell_type": "code",
   "execution_count": 21,
   "metadata": {},
   "outputs": [
    {
     "name": "stdout",
     "output_type": "stream",
     "text": [
      "[[1.353856569249214, 2, 'd'], [1.9807103822885859, 2, 'c'], [2.973069681742738, 1, 'a'], [1.636974242901416, 2, 'd'], [2.2105101747355898, 1, 'c'], [1.6636792778213394, 2, 'd'], [1.3503277718177833, 1, 'b'], [2.2165410382023754, 1, 'c'], [1.1452770207638499, 1, 'b'], [2.1718775245649686, 1, 'b']]\n"
     ]
    }
   ],
   "source": [
    "opt.set_constraints([cons])\n",
    "next_x = opt.ask(n_points = 10)\n",
    "print(next_x)"
   ]
  },
  {
   "cell_type": "markdown",
   "metadata": {},
   "source": [
    "If we want the sum to always be larger than a certain value we pass an optional parameter \"less_than\". If less_than is True the sums should be less than or equal to the value given in constraint. If less_than equals False the sum should be larger than or equal the given parameter:"
   ]
  },
  {
   "cell_type": "code",
   "execution_count": 28,
   "metadata": {},
   "outputs": [
    {
     "name": "stdout",
     "output_type": "stream",
     "text": [
      "[[3.2865676051473907, 1, 'd'], [2.4179428078315235, 3, 'b'], [2.9698859418970596, 2, 'd'], [2.4069243599001533, 3, 'd'], [2.542046157940171, 4, 'c'], [3.217773721976938, 4, 'a'], [3.453447792370867, 1, 'b'], [2.5634066853234443, 3, 'b'], [3.828181629466382, 3, 'a'], [3.3464857723868575, 3, 'c']]\n"
     ]
    }
   ],
   "source": [
    "constraint = Sum((0,1),4, less_than = False)\n",
    "opt.set_constraints([constraint])\n",
    "next_x = opt.ask(n_points = 10)\n",
    "print(next_x)"
   ]
  },
  {
   "cell_type": "markdown",
   "metadata": {},
   "source": [
    "## Conditional constraints\n",
    "\"Conditional\" constraints is a way of applying constraints under certain conditions. The \"Conditional\" class takes 3 arguments where the last two are optional: (condition, if_true, if_false).\n",
    "All three arguments should be constraints.\n",
    "\n",
    "Lets say we want to make the following conditional constraint: If x0 is less than or equal to 2.5 then x2 should be 'a'. Else, x2 should be 'b'.\n",
    "\n",
    "First we start out be creating the condition. The condition should be a constraint that will evaluate to true if x0 < 2.5 and false otherwise. For this we can use the \"Inlcusive\" constraint."
   ]
  },
  {
   "cell_type": "code",
   "execution_count": 32,
   "metadata": {},
   "outputs": [],
   "source": [
    "condition = Inclusive(0,(1.0,2.5),'real')"
   ]
  },
  {
   "cell_type": "markdown",
   "metadata": {},
   "source": [
    "If the condition evaluates to true we want x2 to be equal to 'a' and if it evaluates to false we want x2 to be equal to 'b'. This corresponds to two \"Single\" constraints:"
   ]
  },
  {
   "cell_type": "code",
   "execution_count": 33,
   "metadata": {},
   "outputs": [],
   "source": [
    "if_true = Single(2,('a'),'categorical')\n",
    "if_false = Single(2,('b'),'categorical')"
   ]
  },
  {
   "cell_type": "markdown",
   "metadata": {},
   "source": [
    "Now we put it all together:"
   ]
  },
  {
   "cell_type": "code",
   "execution_count": 80,
   "metadata": {},
   "outputs": [
    {
     "name": "stdout",
     "output_type": "stream",
     "text": [
      "[[1.3608985049081044, 4, 'a'], [1.5804051838500741, 3, 'a'], [1.5291141202687988, 4, 'a'], [2.827533192548653, 4, 'b'], [2.4156177037678077, 2, 'a'], [2.8796067696701853, 1, 'b'], [2.312795584395464, 4, 'a'], [3.298276967048872, 2, 'b'], [2.53919194824516, 3, 'b'], [2.0315235173863164, 3, 'a']]\n"
     ]
    }
   ],
   "source": [
    "constraint_0 = Conditional(condition,if_true = if_true, if_false = if_false)\n",
    "opt.set_constraints([constraint_0])\n",
    "next_x = opt.ask(n_points = 10)\n",
    "print(next_x)"
   ]
  },
  {
   "cell_type": "markdown",
   "metadata": {},
   "source": [
    "This was a simple example but because the \"if_true\" and \"if_false\" arguments are also constraints we can make very complex constraints. Say for example that we only want the above constraint to be applied if x1 is larger than 2. This can be achieved as follows:"
   ]
  },
  {
   "cell_type": "code",
   "execution_count": 81,
   "metadata": {},
   "outputs": [],
   "source": [
    "constraint_1 = Conditional(\n",
    "    Exclusive(1,(1,2),'integer'),\n",
    "    if_true =constraint_0,\n",
    ")"
   ]
  },
  {
   "cell_type": "markdown",
   "metadata": {},
   "source": [
    "Note how it is not nessecary to give both a \"if_true\" and \"if_false\" argument. For example in this case we have defined that if the Exlusive constraint is not satisfied, then we simply do not care what the other parameter values are."
   ]
  },
  {
   "cell_type": "code",
   "execution_count": 82,
   "metadata": {},
   "outputs": [
    {
     "data": {
      "text/plain": [
       "True"
      ]
     },
     "execution_count": 82,
     "metadata": {},
     "output_type": "execute_result"
    }
   ],
   "source": [
    "constraint_1.validate_sample([1,3,'a'])"
   ]
  },
  {
   "cell_type": "code",
   "execution_count": 83,
   "metadata": {},
   "outputs": [
    {
     "name": "stdout",
     "output_type": "stream",
     "text": [
      "[[2.522101027512166, 1, 'a'], [1.28568959583012, 3, 'a'], [2.7272232572284865, 2, 'b'], [1.489544706743643, 1, 'c'], [1.0587218082633048, 2, 'd'], [2.130367747715331, 2, 'a'], [2.874336630995973, 2, 'a'], [2.3414333902130577, 4, 'a'], [1.5296708874660052, 2, 'c'], [1.4629278960656213, 2, 'a']]\n"
     ]
    }
   ],
   "source": [
    "opt.set_constraints([constraint_1])\n",
    "next_x = opt.ask(n_points = 10)\n",
    "print(next_x)"
   ]
  },
  {
   "cell_type": "code",
   "execution_count": null,
   "metadata": {},
   "outputs": [],
   "source": []
  }
 ],
 "metadata": {
  "kernelspec": {
   "display_name": "Python 3",
   "language": "python",
   "name": "python3"
  },
  "language_info": {
   "codemirror_mode": {
    "name": "ipython",
    "version": 3
   },
   "file_extension": ".py",
   "mimetype": "text/x-python",
   "name": "python",
   "nbconvert_exporter": "python",
   "pygments_lexer": "ipython3",
   "version": "3.6.8"
  }
 },
 "nbformat": 4,
 "nbformat_minor": 1
}
