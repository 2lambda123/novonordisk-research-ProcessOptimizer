{
 "cells": [
  {
   "cell_type": "markdown",
   "metadata": {},
   "source": [
    "# Using constraints in optimization loop\n",
    "\n",
    "Sigurd Carlsen, June 2019."
   ]
  },
  {
   "cell_type": "markdown",
   "metadata": {},
   "source": [
    "In real world experiments it is not always possible to maintain the same space as was specified when the experiment was created. For example one could run out of a certain material for the experiment.\n",
    "\n",
    "In these cases costraints come in handy. Instead of redefining our space we just implement constraints on the parameter values that can be used in the experiment. These constraints can be removed or changed as the exeriment changes.\n",
    "\n",
    "So far we have 3 types of constraints: Single, Inclusive and Exclusive.\n",
    "\n",
    "A \"Single\" constraint enforces a specific dimension to take on a specific value.\n",
    "For example: x should always equal 2.0.\n",
    "An \"Inclusive\" constraint forces values to only be the ones included in the constraint.\n",
    "For example: x can only take on values between 2.0 and 3.0\n",
    "An \"Exclusive\" constraint forces values to only be the ones excluded in the constraint.\n",
    "For example: x can not take on values between 2.0 and 3.0"
   ]
  },
  {
   "cell_type": "markdown",
   "metadata": {},
   "source": [
    "This notebook is an example on how to use these constraints.\n",
    "Note that constraints can only be used in conjunction with ask() and tell()\n",
    "\n",
    "Let's start by importing our packages"
   ]
  },
  {
   "cell_type": "code",
   "execution_count": 1,
   "metadata": {},
   "outputs": [
    {
     "data": {
      "text/plain": [
       "<Figure size 432x288 with 0 Axes>"
      ]
     },
     "metadata": {},
     "output_type": "display_data"
    }
   ],
   "source": [
    "from ProcessOptimizer.learning import GaussianProcessRegressor\n",
    "from ProcessOptimizer import Optimizer\n",
    "from ProcessOptimizer.space import constraints\n",
    "from ProcessOptimizer.space.constraints import Single, Inclusive, Exclusive, Constraints\n",
    "from ProcessOptimizer.space import Integer, Categorical, Real\n",
    "import numpy as np\n",
    "np.random.seed(1234)\n",
    "\n",
    "%matplotlib inline\n",
    "import matplotlib.pyplot as plt\n",
    "plt.set_cmap(\"viridis\")"
   ]
  },
  {
   "cell_type": "markdown",
   "metadata": {},
   "source": [
    "Then we define our space"
   ]
  },
  {
   "cell_type": "code",
   "execution_count": 2,
   "metadata": {},
   "outputs": [],
   "source": [
    "space = [\n",
    "        Real(1, 4),\n",
    "        Integer(1, 4),\n",
    "        Categorical(list('abcd')),\n",
    "    ]"
   ]
  },
  {
   "cell_type": "markdown",
   "metadata": {},
   "source": [
    "We initialize our optimizer and asks for 5 samples."
   ]
  },
  {
   "cell_type": "code",
   "execution_count": 3,
   "metadata": {},
   "outputs": [
    {
     "name": "stdout",
     "output_type": "stream",
     "text": [
      "[[2.2343118064815393, 1, 'd'], [1.1911959909356105, 2, 'c'], [3.8921320127588457, 2, 'a'], [2.3207350275586087, 4, 'a'], [2.2603252231778823, 4, 'a']]\n"
     ]
    }
   ],
   "source": [
    "opt = Optimizer(space, \"ET\")\n",
    "next_x = opt.ask(n_points = 5)\n",
    "print(next_x)"
   ]
  },
  {
   "cell_type": "markdown",
   "metadata": {},
   "source": [
    "After the optimizer has been initialized we can add constraints to it.\n",
    "This is done by first creating a list of all constraints we want to pass on to the optimizer.\n",
    "Let us start out simple by creating a list with only one constraint.\n",
    "First we try the \"Single\" type constraint."
   ]
  },
  {
   "cell_type": "code",
   "execution_count": 4,
   "metadata": {},
   "outputs": [],
   "source": [
    "constraints_list = [\n",
    "    Single(0,2.0,'real')\n",
    "]"
   ]
  },
  {
   "cell_type": "markdown",
   "metadata": {},
   "source": [
    "The first argument to \"Single\" is the index of the dimension for which the constraint should be applied.\n",
    "The second argument is the value of the constraint, and the third argument is the type of dimension.\n",
    "\n",
    "Here we have created a constraint on dimension 0. The type of dimension is set to 'real' as the type of dimension 0 in our space object is of type Real. Because dimension is of type 'real' or value 2.0 is of type float\n",
    "\n",
    "Now we add the constraints to the optimizer and asks for 5 samples to evaluate.\n",
    "Note that adding constraints should always be done by calling add_constraints() to ensure that the optimizer internally handles new constraints correctly. "
   ]
  },
  {
   "cell_type": "code",
   "execution_count": 5,
   "metadata": {},
   "outputs": [],
   "source": [
    "opt.add_constraints(constraints_list)"
   ]
  },
  {
   "cell_type": "code",
   "execution_count": 6,
   "metadata": {},
   "outputs": [
    {
     "name": "stdout",
     "output_type": "stream",
     "text": [
      "[[2.0, 1, 'b'], [2.0, 3, 'd'], [2.0, 1, 'd'], [2.0, 4, 'c'], [2.0, 2, 'd']]\n"
     ]
    }
   ],
   "source": [
    "next_x = opt.ask(n_points = 5)\n",
    "print(next_x)"
   ]
  },
  {
   "cell_type": "markdown",
   "metadata": {},
   "source": [
    "Note how all of the samples satisfies the constraint: Dimension 0 is alawys 2.0\n",
    "\n",
    "We can remove the constraints again simply by calling remove_constraints()"
   ]
  },
  {
   "cell_type": "code",
   "execution_count": 7,
   "metadata": {},
   "outputs": [
    {
     "name": "stdout",
     "output_type": "stream",
     "text": [
      "[[1.9126986889774467, 3, 'c'], [1.9701164177071768, 1, 'a'], [2.6897707948544354, 1, 'b'], [2.1818021011307493, 3, 'b'], [2.1496104600566057, 4, 'b']]\n"
     ]
    }
   ],
   "source": [
    "opt.remove_constraints()\n",
    "next_x = opt.ask(n_points = 5)\n",
    "print(next_x)"
   ]
  },
  {
   "cell_type": "markdown",
   "metadata": {},
   "source": [
    "Now let us try with some Inclusive constraints"
   ]
  },
  {
   "cell_type": "code",
   "execution_count": 8,
   "metadata": {},
   "outputs": [],
   "source": [
    "constraints_list = [\n",
    "    Inclusive(1,(2,3),'integer'),\n",
    "    Inclusive(2,('b','c'),'categorical')  \n",
    "]"
   ]
  },
  {
   "cell_type": "markdown",
   "metadata": {},
   "source": [
    "Note how we change the dimension_type arguments to 'integer' and 'categorical' to correspond to the \"Real\" and \"Categorical\" dimension types of dimension 1 and 2.\n",
    "The second argument of Inclusive constraints should be a tuple of length 2 for 'integer' and 'real' dimensions. This tuple defines the lower and upper bound of the constraint.\n",
    "For categorical dimensions the tuple can be more than 2 in length as it describes all the valid values for the dimension."
   ]
  },
  {
   "cell_type": "code",
   "execution_count": 9,
   "metadata": {},
   "outputs": [
    {
     "name": "stdout",
     "output_type": "stream",
     "text": [
      "[[3.261307319755817, 3, 'c'], [3.249128233823785, 3, 'c'], [3.0169548827456554, 2, 'c'], [3.2989259615023494, 3, 'c'], [2.2417848215303335, 2, 'b']]\n"
     ]
    }
   ],
   "source": [
    "opt.add_constraints(constraints_list)\n",
    "next_x = opt.ask(n_points = 5)\n",
    "print(next_x)"
   ]
  },
  {
   "cell_type": "markdown",
   "metadata": {},
   "source": [
    "Now only values between and including 2 and 3 are drawn for dimension 1 and only categorical values of 'b' or 'c' are drawn for dimension 2.\n",
    "Note that calling add_constraints always overwrites all existing constraints in the optimizer"
   ]
  },
  {
   "cell_type": "markdown",
   "metadata": {},
   "source": [
    "Exlusive constraints are called the same way as Inclusive constraints but instead of enforcing that values drawn lie inside the bounds of the constraints values are insted forced to be outside of the bounds of the constraints"
   ]
  },
  {
   "cell_type": "code",
   "execution_count": 10,
   "metadata": {},
   "outputs": [],
   "source": [
    "constraints_list = [\n",
    "    Exclusive(1,(2,3),'integer'),\n",
    "    Exclusive(2,('b','c'),'categorical')  \n",
    "]"
   ]
  },
  {
   "cell_type": "code",
   "execution_count": 11,
   "metadata": {},
   "outputs": [
    {
     "name": "stdout",
     "output_type": "stream",
     "text": [
      "[[1.912688569516774, 1, 'd'], [1.4780143227403975, 4, 'd'], [1.8435681954714562, 4, 'd'], [1.0553334828375456, 4, 'a'], [2.146550819874969, 4, 'd']]\n"
     ]
    }
   ],
   "source": [
    "opt.add_constraints(constraints_list)\n",
    "next_x = opt.ask(n_points = 5)\n",
    "print(next_x)"
   ]
  },
  {
   "cell_type": "markdown",
   "metadata": {},
   "source": [
    "We can use multiple constraints on the same dimension as long as they do not conflict with eachother. For example it is not possible to put two different \"Single\" constraints on the same dimension.\n",
    "\n",
    "Here we want values between 1.5 and 2.0 and values between 3.0 and 3.5 to be excluded:"
   ]
  },
  {
   "cell_type": "code",
   "execution_count": 18,
   "metadata": {},
   "outputs": [
    {
     "name": "stdout",
     "output_type": "stream",
     "text": [
      "[[1.4095737318849202, 4, 'c'], [3.883449567498234, 2, 'c'], [2.1787882813340387, 1, 'b'], [1.0993816336456808, 3, 'a'], [2.332738862880719, 2, 'b'], [2.9670648683764194, 1, 'a'], [1.396904758602636, 4, 'a'], [2.7022622212028287, 3, 'b'], [1.2458561367434886, 4, 'c'], [3.783285716276616, 2, 'b']]\n"
     ]
    }
   ],
   "source": [
    "constraints_list = [\n",
    "    Exclusive(0,(1.5,2.0),'real'),\n",
    "    Exclusive(0,(3.0,3.5),'real')\n",
    "]\n",
    "opt.add_constraints(constraints_list)\n",
    "next_x = opt.ask(n_points = 10)\n",
    "print(next_x)"
   ]
  },
  {
   "cell_type": "markdown",
   "metadata": {},
   "source": [
    "The same can be done with Inclusive constraints"
   ]
  },
  {
   "cell_type": "code",
   "execution_count": 22,
   "metadata": {},
   "outputs": [
    {
     "name": "stdout",
     "output_type": "stream",
     "text": [
      "[[3.0922902576424764, 1, 'c'], [3.0288075703414212, 1, 'c'], [3.0384616060013423, 4, 'd'], [3.0205996792810033, 4, 'a'], [3.0354381854443337, 2, 'a'], [1.0283293777858034, 2, 'd'], [2.015710741999571, 1, 'c'], [1.0120553889598585, 2, 'a'], [3.041019797891082, 1, 'c'], [1.0334408552353442, 4, 'c']]\n"
     ]
    }
   ],
   "source": [
    "constraints_list = [\n",
    "    Inclusive(0,(1.0,1.1),'real'),\n",
    "    Inclusive(0,(2.0,2.1),'real'),\n",
    "    Inclusive(0,(3.0,3.1),'real')\n",
    "]\n",
    "opt.add_constraints(constraints_list)\n",
    "next_x = opt.ask(n_points = 10)\n",
    "print(next_x)"
   ]
  },
  {
   "cell_type": "markdown",
   "metadata": {},
   "source": [
    "We can even mix Inclusive and Exclusive constraints for the same dimension"
   ]
  },
  {
   "cell_type": "code",
   "execution_count": 23,
   "metadata": {},
   "outputs": [
    {
     "name": "stdout",
     "output_type": "stream",
     "text": [
      "[[2.712085887791109, 1, 'd'], [2.227056771517005, 1, 'b'], [2.291557566635598, 2, 'a'], [2.2614188733959946, 2, 'c'], [2.1282214020693466, 4, 'd'], [2.1124389248316535, 3, 'a'], [2.0976753313884697, 4, 'c'], [2.845249687597958, 1, 'a'], [2.1884452386780615, 1, 'c'], [2.29287112090361, 1, 'a']]\n"
     ]
    }
   ],
   "source": [
    "constraints_list = [\n",
    "    Inclusive(0,(2.0,3.0),'real'),\n",
    "    Exclusive(0,(2.3,2.7),'real')\n",
    "]\n",
    "opt.add_constraints(constraints_list)\n",
    "next_x = opt.ask(n_points = 10)\n",
    "print(next_x)"
   ]
  },
  {
   "cell_type": "markdown",
   "metadata": {},
   "source": [
    "Whatch out for creating invalid mixes of constraints. For example: Inclusive(0,(2.0,3.0),'real') and Exclusive(0,(1.5,3.5),'real') leaves no valid values to be drawn"
   ]
  },
  {
   "cell_type": "code",
   "execution_count": null,
   "metadata": {},
   "outputs": [],
   "source": []
  }
 ],
 "metadata": {
  "kernelspec": {
   "display_name": "Python 3",
   "language": "python",
   "name": "python3"
  },
  "language_info": {
   "codemirror_mode": {
    "name": "ipython",
    "version": 3
   },
   "file_extension": ".py",
   "mimetype": "text/x-python",
   "name": "python",
   "nbconvert_exporter": "python",
   "pygments_lexer": "ipython3",
   "version": "3.6.8"
  }
 },
 "nbformat": 4,
 "nbformat_minor": 1
}
