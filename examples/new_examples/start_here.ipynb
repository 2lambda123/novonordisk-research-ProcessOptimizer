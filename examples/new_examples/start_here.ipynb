{
 "cells": [
  {
   "attachments": {},
   "cell_type": "markdown",
   "metadata": {},
   "source": [
    "This notebook is a part of the series about using ProcessOptimizer to guide a gold\n",
    "mining expedition. For an overview, go to the markdown fil gold_mining.md\n",
    "\n",
    "We start the story of our gold mining expedition here. We have just gotten the\n",
    "prospecting permit for a plot of land, and want to figure out how to find the highest\n",
    "amount of gold. First, we want to figure out where to dig. But since each dig takes a\n",
    "long time, we want to make as few digs as possible. \n",
    "\n",
    "The plot of land is 15 by 15 kilometers. We encode this as a \"Space\", which is encodes\n",
    "where we can draw samples from (do a test dig):"
   ]
  },
  {
   "cell_type": "code",
   "execution_count": 1,
   "metadata": {},
   "outputs": [],
   "source": [
    "import numpy as np\n",
    "import ProcessOptimizer\n",
    "\n",
    "coordinates = [(0, 15),(0,15)]\n",
    "space = ProcessOptimizer.space.space.Space(coordinates)"
   ]
  },
  {
   "attachments": {},
   "cell_type": "markdown",
   "metadata": {},
   "source": [
    "Next, we make a (secret) map of all the gold in the plot of land. We do this by making\n",
    "a score, which is a function that accepts a coordinate and returns an amount of gold.\n",
    "Notice that ProcessOptimizer is necessarily a minimizer, so a lower number is better.\n",
    "You can think of the number score returns as XXXX.\n",
    "\n",
    "We then plot the "
   ]
  },
  {
   "cell_type": "code",
   "execution_count": null,
   "metadata": {},
   "outputs": [],
   "source": [
    "def score(coordinates):\n",
    "    \"\"\" Modified Branin-Hoo function. It has three minima with f(x*) = 0.397887 \n",
    "    More details: <http://www.sfu.ca/~ssurjano/branin.html>\n",
    "    \"\"\"\n",
    "    x1 = coordinates[0]-5\n",
    "    x2 = coordinates[1]\n",
    "    return ((x2 - 5.1 / (4 * np.pi**2) * x1 ** 2 + \n",
    "                5. / np.pi * x1 - 6) ** 2 +\n",
    "                10 * (1 - 1. / (8 * np.pi)) * np.cos(x1) + 10)\n",
    "\n",
    "\n"
   ]
  }
 ],
 "metadata": {
  "kernelspec": {
   "display_name": ".env",
   "language": "python",
   "name": "python3"
  },
  "language_info": {
   "codemirror_mode": {
    "name": "ipython",
    "version": 3
   },
   "file_extension": ".py",
   "mimetype": "text/x-python",
   "name": "python",
   "nbconvert_exporter": "python",
   "pygments_lexer": "ipython3",
   "version": "3.9.4"
  },
  "orig_nbformat": 4
 },
 "nbformat": 4,
 "nbformat_minor": 2
}
