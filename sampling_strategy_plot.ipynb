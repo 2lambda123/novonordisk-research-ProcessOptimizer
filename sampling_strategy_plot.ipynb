{
 "cells": [
  {
   "cell_type": "markdown",
   "metadata": {},
   "source": [
    "# Sampling strategy for plotting\n",
    "\n",
    "When we want to plot partial dependency plots, how do we sample across the non-plotted\n",
    "dimensions?\n",
    "\n",
    "We want to plot NxN pixels. We do this by sampling each dimension into N parts, and \n",
    "taking the average MxM cells before we plot. We do this for O dimensions. The total \n",
    "amount of sampled points are P. What is the probability that one cell in one of the\n",
    "required plots is empty?\n",
    "\n",
    "## Number of plots, number of sub-areas\n",
    "\n",
    "We have O 1-D plots with N parts, and (O^2-O)/2 2D plots with N^2 parts.\n",
    "\n",
    "## Completely random samples.\n",
    "\n",
    "For the 1D plots, the probability that one sample is not in a given part is 1-1/N. The \n",
    "probability that no samples is in a given part is (1-1/N)^P. The probability that no\n",
    "sample is within at least one of the MxM parts that the average is taken over is\n",
    "((1-1/N)^P)^(M^2)) = (1-1/N)^(PM^2). \n",
    "\n",
    "The probability that there is at least one sample within one of the MxM parts that the \n",
    "average is taken over is 1-(1-1/N)^(PM^2). The probability that all N parts of the 1D\n",
    "plot have samples is roughly (1-(1-1/N)^(PM^2))^N. The probability that this is the case\n",
    "for all O plots is (1-(1-1/N)^(PM^2))^(ON).\n",
    "\n",
    "For the 2D plots, the probability that one sample is not in a given part is 1-1/N^2. The\n",
    "probability that no samples is in a given part is (1-1/N^2)^P. The probability that no\n",
    "sample is within at least one of the MxM parts that the average is taken over is\n",
    "((1-1/N^2)^P)^(M^2)) = (1-1/N^2)^(PM^2). \n",
    "\n",
    "The probability that there is at least one sample within one of the MxM parts that the \n",
    "average is taken over is 1-(1-1/N^2)^(PM^2). The probability that all N^2 parts of the 2D\n",
    "plot have samples is roughly (1-(1-1/N^2)^(PM^2))^(N^2). The probability that this is the case\n",
    "for all (O^2-O)/2 plots is (1-(1-1/N^2)^(PM^2))^(N^2*(O^2-O)/2). For small (1-1/N^2)^(PM^2)),\n",
    "this is approximately ((1-1/N^2)^(PM^2))*(N^2(O^2-O)/2).\n",
    "\n",
    "If we have enough samples that each part of the 2D plot has R samples on average, we\n",
    "need RN^2 samples. The full expression then becomes ((1-1/N^2)^(RN^2M^2))*(N^2(O^2-O)/2)\n",
    "= (((1-1/N^2)^(N^2))^(RM^2))*(N^2(O^2-O)/2), which is approxamtely \n",
    "e^(-RM^2)(N^2(O^2-O)/2). This is basically e^(-samples averaged over). Since we probably\n",
    "want to average over at least 100 samples to reduce sampling noise, this should be\n",
    "tiny, so the risk of not having anything to plot is negligible."
   ]
  },
  {
   "cell_type": "code",
   "execution_count": 66,
   "metadata": {},
   "outputs": [
    {
     "data": {
      "text/plain": [
       "7.273479944572843e-14"
      ]
     },
     "execution_count": 66,
     "metadata": {},
     "output_type": "execute_result"
    }
   ],
   "source": [
    "N = 20\n",
    "oversampling = 10\n",
    "M = 2\n",
    "O = 10\n",
    "P = N**2*oversampling\n",
    "(1-1/N**2)**(P*M**2)*(N**2*(O**2-O)/2)"
   ]
  },
  {
   "cell_type": "code",
   "execution_count": 56,
   "metadata": {},
   "outputs": [
    {
     "data": {
      "text/plain": [
       "6.252459615354868e-14"
      ]
     },
     "execution_count": 56,
     "metadata": {},
     "output_type": "execute_result"
    }
   ],
   "source": [
    "(1-1/(N/M)**2)**(P)*(N**2*(O**2-O)/2)"
   ]
  },
  {
   "cell_type": "code",
   "execution_count": 2,
   "metadata": {},
   "outputs": [
    {
     "data": {
      "text/plain": [
       "6.048519205098133e-13"
      ]
     },
     "execution_count": 2,
     "metadata": {},
     "output_type": "execute_result"
    }
   ],
   "source": [
    "(1-1/N**2)**(P*M**2)"
   ]
  },
  {
   "cell_type": "code",
   "execution_count": 3,
   "metadata": {},
   "outputs": [
    {
     "data": {
      "text/plain": [
       "5.636181281797957e-13"
      ]
     },
     "execution_count": 3,
     "metadata": {},
     "output_type": "execute_result"
    }
   ],
   "source": [
    "(1-1/(N/M)**2)**(P)"
   ]
  },
  {
   "cell_type": "code",
   "execution_count": 58,
   "metadata": {},
   "outputs": [
    {
     "data": {
      "text/plain": [
       "7.647037659524876e-14"
      ]
     },
     "execution_count": 58,
     "metadata": {},
     "output_type": "execute_result"
    }
   ],
   "source": [
    "import math\n",
    "math.e**(-oversampling*M**2)*(N**2*(O**2-O)/2)"
   ]
  },
  {
   "cell_type": "code",
   "execution_count": 60,
   "metadata": {},
   "outputs": [
    {
     "data": {
      "text/plain": [
       "4.248354255291598e-18"
      ]
     },
     "execution_count": 60,
     "metadata": {},
     "output_type": "execute_result"
    }
   ],
   "source": [
    "math.e**-40"
   ]
  }
 ],
 "metadata": {
  "kernelspec": {
   "display_name": "Python 3.9.4 ('.env': venv)",
   "language": "python",
   "name": "python3"
  },
  "language_info": {
   "codemirror_mode": {
    "name": "ipython",
    "version": 3
   },
   "file_extension": ".py",
   "mimetype": "text/x-python",
   "name": "python",
   "nbconvert_exporter": "python",
   "pygments_lexer": "ipython3",
   "version": "3.9.4"
  },
  "orig_nbformat": 4,
  "vscode": {
   "interpreter": {
    "hash": "088a4a779028a2df9f99a1c17899ed6b8b7ddcee72da205604c07f89a1d3092b"
   }
  }
 },
 "nbformat": 4,
 "nbformat_minor": 2
}
