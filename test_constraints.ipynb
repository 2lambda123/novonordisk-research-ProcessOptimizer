{
 "cells": [
  {
   "cell_type": "code",
   "execution_count": 1,
   "metadata": {},
   "outputs": [],
   "source": [
    "def funny_func(x_list):\n",
    "    s = 0\n",
    "    for x in x_list:\n",
    "        if type(x) == str:\n",
    "            string_sum = 0\n",
    "            for x_i in x:\n",
    "                string_sum += ord(x_i)/100-0.7\n",
    "            string_sum/= len(x)\n",
    "            s+= string_sum\n",
    "        else:\n",
    "            s += x**2\n",
    "    return s"
   ]
  },
  {
   "cell_type": "code",
   "execution_count": 2,
   "metadata": {},
   "outputs": [],
   "source": [
    "from ProcessOptimizer.space import constraints"
   ]
  },
  {
   "cell_type": "code",
   "execution_count": 3,
   "metadata": {},
   "outputs": [],
   "source": [
    "import matplotlib.pyplot as plt\n",
    "import numpy as np\n",
    "from sklearn.datasets import load_breast_cancer\n",
    "from sklearn.tree import DecisionTreeClassifier\n",
    "from sklearn.model_selection import cross_val_score\n",
    "from ProcessOptimizer.space import Integer, Categorical, Real\n",
    "from ProcessOptimizer import plots, gp_minimize\n",
    "from ProcessOptimizer.plots import plot_objective\n",
    "from ProcessOptimizer import bokeh_plot\n",
    "from ProcessOptimizer.space import constraints\n",
    "import time"
   ]
  },
  {
   "cell_type": "code",
   "execution_count": 4,
   "metadata": {},
   "outputs": [
    {
     "data": {
      "text/plain": [
       "<Figure size 432x288 with 0 Axes>"
      ]
     },
     "metadata": {},
     "output_type": "display_data"
    }
   ],
   "source": [
    "\n",
    "# For reproducibility\n",
    "np.random.seed(123)\n",
    "import matplotlib.pyplot as plt\n",
    "plt.set_cmap(\"viridis\")\n",
    "\n",
    "SPACE = [\n",
    "    Real(1, 10, name='max_depth',transform='normalize', prior = 'uniform'),\n",
    "    Integer(0, 10, name='min_samples_split'),\n",
    "    Integer(0, 10, name='min_samples_leaf'),\n",
    "    Integer(0, 10, name='max_features'),\n",
    "    Categorical(list('abc'), name='dummy',transform='onehot'),\n",
    "    Categorical(['gini', 'entropy'], name='criterion'),\n",
    "    Categorical(list('def'), name='dummy'),\n",
    "]\n",
    "result = gp_minimize(funny_func, SPACE, n_calls=15)\n"
   ]
  },
  {
   "cell_type": "code",
   "execution_count": 20,
   "metadata": {},
   "outputs": [],
   "source": [
    "cons = [constraints.Hard(1,2),\n",
    "       constraints.Hard(2,3)]\n",
    "#cons = [2]"
   ]
  },
  {
   "cell_type": "code",
   "execution_count": 21,
   "metadata": {},
   "outputs": [
    {
     "data": {
      "text/plain": [
       "[[3.877470143511948, 4, 5, 2, 'b', 'entropy', 'f'],\n",
       " [8.3496329448153, 2, 7, 5, 'b', 'entropy', 'f'],\n",
       " [2.468958545402784, 5, 2, 5, 'a', 'gini', 'e'],\n",
       " [5.901662743421438, 2, 5, 6, 'b', 'gini', 'e']]"
      ]
     },
     "execution_count": 21,
     "metadata": {},
     "output_type": "execute_result"
    }
   ],
   "source": [
    "result.space.rvs(n_samples=4, random_state=None, constraints = None)"
   ]
  },
  {
   "cell_type": "code",
   "execution_count": 27,
   "metadata": {},
   "outputs": [
    {
     "data": {
      "text/plain": [
       "[[8.005639541763738, 2, 3, 7, 'c', 'gini', 'd'],\n",
       " [8.602115394822956, 2, 3, 6, 'b', 'gini', 'd'],\n",
       " [7.9302286019612875, 2, 3, 3, 'b', 'gini', 'f'],\n",
       " [2.8562291124909724, 2, 3, 8, 'b', 'gini', 'e']]"
      ]
     },
     "execution_count": 27,
     "metadata": {},
     "output_type": "execute_result"
    }
   ],
   "source": [
    "result.space.rvs(n_samples=4, random_state=None, constraints = cons)"
   ]
  },
  {
   "cell_type": "code",
   "execution_count": null,
   "metadata": {},
   "outputs": [],
   "source": [
    "type([0]) == list"
   ]
  },
  {
   "cell_type": "code",
   "execution_count": null,
   "metadata": {},
   "outputs": [],
   "source": [
    "cons = [constraints.Hard(0,2)]"
   ]
  },
  {
   "cell_type": "code",
   "execution_count": null,
   "metadata": {},
   "outputs": [],
   "source": [
    "constraints.rvs_constraints(result.space, cons, n_samples=4, random_state = None)"
   ]
  },
  {
   "cell_type": "code",
   "execution_count": null,
   "metadata": {},
   "outputs": [],
   "source": [
    "a = result.space.rvs(n_samples=10000, random_state=None, constraints = None)"
   ]
  },
  {
   "cell_type": "code",
   "execution_count": null,
   "metadata": {},
   "outputs": [],
   "source": [
    "k = []\n",
    "for s in a:\n",
    "    k.append(s[0])"
   ]
  },
  {
   "cell_type": "code",
   "execution_count": null,
   "metadata": {},
   "outputs": [],
   "source": [
    "plt.hist(k)"
   ]
  },
  {
   "cell_type": "code",
   "execution_count": null,
   "metadata": {},
   "outputs": [],
   "source": [
    "result.space.rvs(n_samples=4, random_state=None, constraints = cons)"
   ]
  },
  {
   "cell_type": "code",
   "execution_count": null,
   "metadata": {},
   "outputs": [],
   "source": [
    "a=constraints.draw_hard_constrained_values(cons[0],4)"
   ]
  },
  {
   "cell_type": "code",
   "execution_count": null,
   "metadata": {},
   "outputs": [],
   "source": [
    "np.full(10,2)"
   ]
  },
  {
   "cell_type": "code",
   "execution_count": null,
   "metadata": {},
   "outputs": [],
   "source": [
    "a.shape"
   ]
  },
  {
   "cell_type": "code",
   "execution_count": null,
   "metadata": {},
   "outputs": [],
   "source": [
    "result.space.rvs(n_samples=4, random_state=None, constraints = None)"
   ]
  },
  {
   "cell_type": "code",
   "execution_count": null,
   "metadata": {},
   "outputs": [],
   "source": [
    "from scipy.stats.distributions import uniform"
   ]
  },
  {
   "cell_type": "code",
   "execution_count": null,
   "metadata": {},
   "outputs": [],
   "source": [
    "uniform.rvs()"
   ]
  },
  {
   "cell_type": "code",
   "execution_count": null,
   "metadata": {},
   "outputs": [],
   "source": []
  }
 ],
 "metadata": {
  "kernelspec": {
   "display_name": "Python 3",
   "language": "python",
   "name": "python3"
  },
  "language_info": {
   "codemirror_mode": {
    "name": "ipython",
    "version": 3
   },
   "file_extension": ".py",
   "mimetype": "text/x-python",
   "name": "python",
   "nbconvert_exporter": "python",
   "pygments_lexer": "ipython3",
   "version": "3.6.7"
  }
 },
 "nbformat": 4,
 "nbformat_minor": 2
}
