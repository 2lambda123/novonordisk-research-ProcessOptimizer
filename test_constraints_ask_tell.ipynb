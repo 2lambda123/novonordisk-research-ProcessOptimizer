{
 "cells": [
  {
   "cell_type": "code",
   "execution_count": 1,
   "metadata": {},
   "outputs": [],
   "source": [
    "from ProcessOptimizer import space\n",
    "from ProcessOptimizer.learning import GaussianProcessRegressor\n",
    "from ProcessOptimizer import Optimizer\n",
    "from ProcessOptimizer.space import constraints"
   ]
  },
  {
   "cell_type": "code",
   "execution_count": 2,
   "metadata": {},
   "outputs": [
    {
     "data": {
      "text/plain": [
       "<Figure size 432x288 with 0 Axes>"
      ]
     },
     "metadata": {},
     "output_type": "display_data"
    }
   ],
   "source": [
    "from ProcessOptimizer.space import Integer, Categorical, Real\n",
    "import numpy as np\n",
    "np.random.seed(1234)\n",
    "\n",
    "%matplotlib inline\n",
    "import matplotlib.pyplot as plt\n",
    "plt.set_cmap(\"viridis\")"
   ]
  },
  {
   "cell_type": "code",
   "execution_count": 3,
   "metadata": {},
   "outputs": [],
   "source": [
    "def funny_func(x_list):\n",
    "    s = 0\n",
    "    for x in x_list:\n",
    "        if type(x) == str:\n",
    "            string_sum = 0\n",
    "            for x_i in x:\n",
    "                string_sum += ord(x_i)/100-0.7\n",
    "            string_sum/= len(x)\n",
    "            s+= string_sum\n",
    "        else:\n",
    "            s += x**2\n",
    "    return s"
   ]
  },
  {
   "cell_type": "code",
   "execution_count": 4,
   "metadata": {},
   "outputs": [],
   "source": [
    "SPACE = [\n",
    "    Real(1, 10, name='max_depth',transform='normalize', prior = 'uniform'),\n",
    "    Integer(0, 10, name='max_features'),\n",
    "    Categorical(list('abc'), name='dummy',transform='onehot'),\n",
    "    Categorical(['gini', 'entropy'], name='criterion'),\n",
    "]\n"
   ]
  },
  {
   "cell_type": "code",
   "execution_count": 5,
   "metadata": {},
   "outputs": [],
   "source": [
    "opt = Optimizer(SPACE, \"ET\", acq_optimizer=\"sampling\")"
   ]
  },
  {
   "cell_type": "code",
   "execution_count": 6,
   "metadata": {},
   "outputs": [],
   "source": [
    "opt = Optimizer(SPACE,acq_optimizer=\"sampling\")\n"
   ]
  },
  {
   "cell_type": "code",
   "execution_count": 7,
   "metadata": {},
   "outputs": [],
   "source": [
    "cons = [constraints.Exclusive(0,[1,9]),\n",
    "       constraints.Inclusive(1,[4,5])]\n",
    "#cons = [2]"
   ]
  },
  {
   "cell_type": "code",
   "execution_count": 8,
   "metadata": {},
   "outputs": [],
   "source": [
    "cons = [constraints.Hard(0,2),\n",
    "       constraints.Inclusive(1,[4,5]),\n",
    "       constraints.Inclusive(2,['b','a'])]"
   ]
  },
  {
   "cell_type": "code",
   "execution_count": 9,
   "metadata": {},
   "outputs": [],
   "source": [
    "opt.add_constraints(cons)"
   ]
  },
  {
   "cell_type": "code",
   "execution_count": 10,
   "metadata": {},
   "outputs": [
    {
     "data": {
      "text/plain": [
       "str"
      ]
     },
     "execution_count": 10,
     "metadata": {},
     "output_type": "execute_result"
    }
   ],
   "source": [
    "type(cons[2].bounds[0])"
   ]
  },
  {
   "cell_type": "code",
   "execution_count": 17,
   "metadata": {},
   "outputs": [
    {
     "data": {
      "text/plain": [
       "          fun: 20.6275\n",
       "    func_vals: array([20.70142857, 29.69142857, 29.69142857, 20.6275    , 20.6375    ,\n",
       "       29.70142857])\n",
       "       models: []\n",
       " random_state: <mtrand.RandomState object at 0x7f92a80763a8>\n",
       "        space: Space([Real(low=1, high=10, prior='uniform', transform='normalize'),\n",
       "       Integer(low=0, high=10),\n",
       "       Categorical(categories=('a', 'b', 'c'), prior=None),\n",
       "       Categorical(categories=('gini', 'entropy'), prior=None)])\n",
       "        specs: None\n",
       "            x: [2, 4, 'a', 'gini']\n",
       "      x_iters: [[2, 4, 'b', 'entropy'], [2, 5, 'a', 'entropy'], [2, 5, 'a', 'entropy'], [2, 4, 'a', 'gini'], [2, 4, 'b', 'gini'], [2, 5, 'b', 'entropy']]"
      ]
     },
     "execution_count": 17,
     "metadata": {},
     "output_type": "execute_result"
    }
   ],
   "source": [
    "\n",
    "next_x= opt.ask()\n",
    "next_x\n",
    "f_val = funny_func(next_x)\n",
    "f_val\n",
    "opt.tell(next_x, f_val)"
   ]
  },
  {
   "cell_type": "code",
   "execution_count": 19,
   "metadata": {},
   "outputs": [
    {
     "data": {
      "text/plain": [
       "7"
      ]
     },
     "execution_count": 19,
     "metadata": {},
     "output_type": "execute_result"
    }
   ],
   "source": [
    "len(opt.list_of_constraints)"
   ]
  },
  {
   "cell_type": "code",
   "execution_count": 26,
   "metadata": {},
   "outputs": [
    {
     "data": {
      "text/plain": [
       "6"
      ]
     },
     "execution_count": 26,
     "metadata": {},
     "output_type": "execute_result"
    }
   ],
   "source": [
    "len(opt.yi)"
   ]
  },
  {
   "cell_type": "code",
   "execution_count": 29,
   "metadata": {},
   "outputs": [
    {
     "data": {
      "text/plain": [
       "6"
      ]
     },
     "execution_count": 29,
     "metadata": {},
     "output_type": "execute_result"
    }
   ],
   "source": [
    "len(opt.Xi)"
   ]
  },
  {
   "cell_type": "code",
   "execution_count": null,
   "metadata": {},
   "outputs": [],
   "source": []
  },
  {
   "cell_type": "code",
   "execution_count": 24,
   "metadata": {},
   "outputs": [
    {
     "data": {
      "text/plain": [
       "['Xi',\n",
       " '__class__',\n",
       " '__delattr__',\n",
       " '__dict__',\n",
       " '__dir__',\n",
       " '__doc__',\n",
       " '__eq__',\n",
       " '__format__',\n",
       " '__ge__',\n",
       " '__getattribute__',\n",
       " '__gt__',\n",
       " '__hash__',\n",
       " '__init__',\n",
       " '__init_subclass__',\n",
       " '__le__',\n",
       " '__lt__',\n",
       " '__module__',\n",
       " '__ne__',\n",
       " '__new__',\n",
       " '__reduce__',\n",
       " '__reduce_ex__',\n",
       " '__repr__',\n",
       " '__setattr__',\n",
       " '__sizeof__',\n",
       " '__str__',\n",
       " '__subclasshook__',\n",
       " '__weakref__',\n",
       " '_ask',\n",
       " '_cat_inds',\n",
       " '_check_y_is_valid',\n",
       " '_n_initial_points',\n",
       " '_non_cat_inds',\n",
       " '_tell',\n",
       " 'acq_func',\n",
       " 'acq_func_kwargs',\n",
       " 'acq_optimizer',\n",
       " 'acq_optimizer_kwargs',\n",
       " 'add_constraints',\n",
       " 'ask',\n",
       " 'base_estimator_',\n",
       " 'cache_',\n",
       " 'cand_acq_funcs_',\n",
       " 'constraints',\n",
       " 'copy',\n",
       " 'eta',\n",
       " 'gains_',\n",
       " 'list_of_constraints',\n",
       " 'models',\n",
       " 'n_initial_points_',\n",
       " 'n_jobs',\n",
       " 'n_points',\n",
       " 'n_restarts_optimizer',\n",
       " 'remove_constraints',\n",
       " 'rng',\n",
       " 'run',\n",
       " 'space',\n",
       " 'tell',\n",
       " 'yi']"
      ]
     },
     "execution_count": 24,
     "metadata": {},
     "output_type": "execute_result"
    }
   ],
   "source": [
    "dir(opt)"
   ]
  },
  {
   "cell_type": "code",
   "execution_count": 23,
   "metadata": {},
   "outputs": [
    {
     "ename": "AttributeError",
     "evalue": "'Optimizer' object has no attribute 'xi'",
     "output_type": "error",
     "traceback": [
      "\u001b[0;31m---------------------------------------------------------------------------\u001b[0m",
      "\u001b[0;31mAttributeError\u001b[0m                            Traceback (most recent call last)",
      "\u001b[0;32m<ipython-input-23-c00385c92510>\u001b[0m in \u001b[0;36m<module>\u001b[0;34m\u001b[0m\n\u001b[0;32m----> 1\u001b[0;31m \u001b[0mlen\u001b[0m\u001b[0;34m(\u001b[0m\u001b[0mopt\u001b[0m\u001b[0;34m.\u001b[0m\u001b[0mxi\u001b[0m\u001b[0;34m)\u001b[0m\u001b[0;34m\u001b[0m\u001b[0;34m\u001b[0m\u001b[0m\n\u001b[0m",
      "\u001b[0;31mAttributeError\u001b[0m: 'Optimizer' object has no attribute 'xi'"
     ]
    }
   ],
   "source": [
    "len(opt.xi)"
   ]
  },
  {
   "cell_type": "code",
   "execution_count": 16,
   "metadata": {},
   "outputs": [
    {
     "data": {
      "text/plain": [
       "[[Hard(dimension=0, value=2),\n",
       "  Inclusive(dimension=1, bounds=[4, 5]),\n",
       "  Inclusive(dimension=2, bounds=['b', 'a'])],\n",
       " [Hard(dimension=0, value=2),\n",
       "  Inclusive(dimension=1, bounds=[4, 5]),\n",
       "  Inclusive(dimension=2, bounds=['b', 'a'])],\n",
       " [Hard(dimension=0, value=2),\n",
       "  Inclusive(dimension=1, bounds=[4, 5]),\n",
       "  Inclusive(dimension=2, bounds=['b', 'a'])]]"
      ]
     },
     "execution_count": 16,
     "metadata": {},
     "output_type": "execute_result"
    }
   ],
   "source": [
    "opt.list_of_constraints"
   ]
  },
  {
   "cell_type": "code",
   "execution_count": 34,
   "metadata": {},
   "outputs": [
    {
     "data": {
      "text/plain": [
       "60.25795161352544"
      ]
     },
     "execution_count": 34,
     "metadata": {},
     "output_type": "execute_result"
    }
   ],
   "source": [
    "f_val = funny_func(next_x)\n",
    "f_val"
   ]
  },
  {
   "cell_type": "code",
   "execution_count": 36,
   "metadata": {},
   "outputs": [],
   "source": [
    "res = opt.tell(next_x, f_val)"
   ]
  },
  {
   "cell_type": "code",
   "execution_count": 37,
   "metadata": {},
   "outputs": [
    {
     "data": {
      "text/plain": [
       "          fun: 60.25795161352544\n",
       "    func_vals: array([60.25795161, 60.25795161])\n",
       "       models: []\n",
       " random_state: <mtrand.RandomState object at 0x7f8fb2b75480>\n",
       "        space: Space([Real(low=1, high=10, prior='uniform', transform='normalize'),\n",
       "       Integer(low=0, high=10),\n",
       "       Categorical(categories=('a', 'b', 'c'), prior=None),\n",
       "       Categorical(categories=('gini', 'entropy'), prior=None)])\n",
       "        specs: None\n",
       "            x: [6.598978939358488, 4, 'c', 'entropy']\n",
       "      x_iters: [[6.598978939358488, 4, 'c', 'entropy'], [6.598978939358488, 4, 'c', 'entropy']]"
      ]
     },
     "execution_count": 37,
     "metadata": {},
     "output_type": "execute_result"
    }
   ],
   "source": [
    "res"
   ]
  },
  {
   "cell_type": "code",
   "execution_count": 22,
   "metadata": {},
   "outputs": [],
   "source": [
    "cons1 = [constraints.Exclusive(0,[1,9]),\n",
    "       constraints.Inclusive(1,[4,5]),\n",
    "        constraints.Hard(1,1)]\n",
    "#cons = [2]"
   ]
  },
  {
   "cell_type": "code",
   "execution_count": 23,
   "metadata": {},
   "outputs": [],
   "source": [
    "cons2 = [constraints.Exclusive(0,[1,9]),\n",
    "       constraints.Inclusive(1,[4,5]),\n",
    "        constraints.Hard(1,1)]\n",
    "#cons = [2]"
   ]
  },
  {
   "cell_type": "code",
   "execution_count": 24,
   "metadata": {},
   "outputs": [
    {
     "name": "stdout",
     "output_type": "stream",
     "text": [
      "True i=0 j=0\n",
      "False i=0 j=1\n",
      "False i=0 j=2\n",
      "False i=1 j=0\n",
      "True i=1 j=1\n",
      "False i=1 j=2\n",
      "False i=2 j=0\n",
      "False i=2 j=1\n",
      "True i=2 j=2\n"
     ]
    }
   ],
   "source": [
    "for i in range(3):\n",
    "    for j in range(3):\n",
    "        print(str(cons1[i]==cons2[j])+' i='+str(i)+' j='+str(j))"
   ]
  },
  {
   "cell_type": "code",
   "execution_count": 25,
   "metadata": {},
   "outputs": [
    {
     "data": {
      "text/plain": [
       "True"
      ]
     },
     "execution_count": 25,
     "metadata": {},
     "output_type": "execute_result"
    }
   ],
   "source": [
    "all([a == b for a, b in zip(cons1, cons2)])"
   ]
  },
  {
   "cell_type": "code",
   "execution_count": 12,
   "metadata": {},
   "outputs": [
    {
     "ename": "TypeError",
     "evalue": "argument of type 'Hard' is not iterable",
     "output_type": "error",
     "traceback": [
      "\u001b[0;31m---------------------------------------------------------------------------\u001b[0m",
      "\u001b[0;31mTypeError\u001b[0m                                 Traceback (most recent call last)",
      "\u001b[0;32m<ipython-input-12-4e8918d7e427>\u001b[0m in \u001b[0;36m<module>\u001b[0;34m\u001b[0m\n\u001b[0;32m----> 1\u001b[0;31m \u001b[0;34m'bounds'\u001b[0m \u001b[0;32min\u001b[0m \u001b[0mcons2\u001b[0m\u001b[0;34m[\u001b[0m\u001b[0;36m2\u001b[0m\u001b[0;34m]\u001b[0m\u001b[0;34m\u001b[0m\u001b[0;34m\u001b[0m\u001b[0m\n\u001b[0m",
      "\u001b[0;31mTypeError\u001b[0m: argument of type 'Hard' is not iterable"
     ]
    }
   ],
   "source": [
    "'bounds' in cons2[2]"
   ]
  },
  {
   "cell_type": "code",
   "execution_count": null,
   "metadata": {},
   "outputs": [],
   "source": [
    "hasattr"
   ]
  },
  {
   "cell_type": "code",
   "execution_count": 18,
   "metadata": {},
   "outputs": [
    {
     "data": {
      "text/plain": [
       "True"
      ]
     },
     "execution_count": 18,
     "metadata": {},
     "output_type": "execute_result"
    }
   ],
   "source": [
    "hasattr(cons2[2],'value')"
   ]
  },
  {
   "cell_type": "code",
   "execution_count": 45,
   "metadata": {},
   "outputs": [
    {
     "data": {
      "text/plain": [
       "False"
      ]
     },
     "execution_count": 45,
     "metadata": {},
     "output_type": "execute_result"
    }
   ],
   "source": [
    "[0,1] == [0,2]"
   ]
  },
  {
   "cell_type": "code",
   "execution_count": 31,
   "metadata": {},
   "outputs": [
    {
     "data": {
      "text/plain": [
       "['__class__',\n",
       " '__delattr__',\n",
       " '__dict__',\n",
       " '__dir__',\n",
       " '__doc__',\n",
       " '__eq__',\n",
       " '__format__',\n",
       " '__ge__',\n",
       " '__getattribute__',\n",
       " '__gt__',\n",
       " '__hash__',\n",
       " '__init__',\n",
       " '__init_subclass__',\n",
       " '__le__',\n",
       " '__lt__',\n",
       " '__module__',\n",
       " '__ne__',\n",
       " '__new__',\n",
       " '__reduce__',\n",
       " '__reduce_ex__',\n",
       " '__repr__',\n",
       " '__setattr__',\n",
       " '__sizeof__',\n",
       " '__str__',\n",
       " '__subclasshook__',\n",
       " '__weakref__',\n",
       " 'dimension',\n",
       " 'type',\n",
       " 'value']"
      ]
     },
     "execution_count": 31,
     "metadata": {},
     "output_type": "execute_result"
    }
   ],
   "source": [
    "dir(opt.constraints[0])\n"
   ]
  },
  {
   "cell_type": "code",
   "execution_count": 18,
   "metadata": {},
   "outputs": [
    {
     "data": {
      "text/plain": [
       "Space([Real(low=1, high=10, prior='uniform', transform='normalize'),\n",
       "       Integer(low=0, high=10),\n",
       "       Categorical(categories=('a', 'b', 'c'), prior=None),\n",
       "       Categorical(categories=('gini', 'entropy'), prior=None)])"
      ]
     },
     "execution_count": 18,
     "metadata": {},
     "output_type": "execute_result"
    }
   ],
   "source": [
    "opt.space"
   ]
  },
  {
   "cell_type": "code",
   "execution_count": 13,
   "metadata": {},
   "outputs": [],
   "source": [
    "opt.remove_constraints()"
   ]
  },
  {
   "cell_type": "code",
   "execution_count": 14,
   "metadata": {},
   "outputs": [],
   "source": [
    "from ProcessOptimizer.space import constraints"
   ]
  },
  {
   "cell_type": "code",
   "execution_count": 15,
   "metadata": {},
   "outputs": [],
   "source": [
    "a = constraints.Constraints(cons,opt.space)"
   ]
  },
  {
   "cell_type": "code",
   "execution_count": 16,
   "metadata": {},
   "outputs": [
    {
     "data": {
      "text/plain": [
       "[Hard(dimension=0, value=1), None, None, None]"
      ]
     },
     "execution_count": 16,
     "metadata": {},
     "output_type": "execute_result"
    }
   ],
   "source": [
    "a.hard"
   ]
  },
  {
   "cell_type": "code",
   "execution_count": null,
   "metadata": {},
   "outputs": [],
   "source": []
  }
 ],
 "metadata": {
  "kernelspec": {
   "display_name": "Python 3",
   "language": "python",
   "name": "python3"
  },
  "language_info": {
   "codemirror_mode": {
    "name": "ipython",
    "version": 3
   },
   "file_extension": ".py",
   "mimetype": "text/x-python",
   "name": "python",
   "nbconvert_exporter": "python",
   "pygments_lexer": "ipython3",
   "version": "3.6.7"
  }
 },
 "nbformat": 4,
 "nbformat_minor": 2
}
