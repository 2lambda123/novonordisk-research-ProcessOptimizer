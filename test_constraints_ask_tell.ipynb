{
 "cells": [
  {
   "cell_type": "code",
   "execution_count": 1,
   "metadata": {},
   "outputs": [],
   "source": [
    "from ProcessOptimizer import space\n",
    "from ProcessOptimizer.learning import GaussianProcessRegressor\n",
    "from ProcessOptimizer import Optimizer\n",
    "from ProcessOptimizer.space import constraints"
   ]
  },
  {
   "cell_type": "code",
   "execution_count": 2,
   "metadata": {},
   "outputs": [
    {
     "data": {
      "text/plain": [
       "<Figure size 432x288 with 0 Axes>"
      ]
     },
     "metadata": {},
     "output_type": "display_data"
    }
   ],
   "source": [
    "from ProcessOptimizer.space import Integer, Categorical, Real\n",
    "import numpy as np\n",
    "np.random.seed(1234)\n",
    "\n",
    "%matplotlib inline\n",
    "import matplotlib.pyplot as plt\n",
    "plt.set_cmap(\"viridis\")"
   ]
  },
  {
   "cell_type": "code",
   "execution_count": 3,
   "metadata": {},
   "outputs": [],
   "source": [
    "def funny_func(x_list):\n",
    "    s = 0\n",
    "    for x in x_list:\n",
    "        if type(x) == str:\n",
    "            string_sum = 0\n",
    "            for x_i in x:\n",
    "                string_sum += ord(x_i)/100-0.7\n",
    "            string_sum/= len(x)\n",
    "            s+= string_sum\n",
    "        else:\n",
    "            s += x**2\n",
    "    return s"
   ]
  },
  {
   "cell_type": "code",
   "execution_count": 4,
   "metadata": {},
   "outputs": [],
   "source": [
    "SPACE = [\n",
    "    Real(1, 10, name='max_depth',transform='normalize', prior = 'uniform'),\n",
    "    Integer(0, 10, name='max_features'),\n",
    "    Categorical(list('abc'), name='dummy',transform='onehot'),\n",
    "    Categorical(['gini', 1], name='criterion'),\n",
    "]\n"
   ]
  },
  {
   "cell_type": "code",
   "execution_count": 109,
   "metadata": {},
   "outputs": [],
   "source": [
    "SPACE = space.Space([[0,1],['a','b','c'],[-1.0,1.0]])"
   ]
  },
  {
   "cell_type": "code",
   "execution_count": 117,
   "metadata": {},
   "outputs": [],
   "source": [
    "SPACE = space.Space(SPACE )"
   ]
  },
  {
   "cell_type": "code",
   "execution_count": 123,
   "metadata": {},
   "outputs": [
    {
     "data": {
      "text/plain": [
       "[[5.721478481112746, 1, 'c', 1]]"
      ]
     },
     "execution_count": 123,
     "metadata": {},
     "output_type": "execute_result"
    }
   ],
   "source": [
    "SPACE.rvs()"
   ]
  },
  {
   "cell_type": "code",
   "execution_count": 49,
   "metadata": {},
   "outputs": [],
   "source": [
    "cons = Constraints([constraints.Hard(0,0),\n",
    "    constraints.Hard(1,'b'),\n",
    "    constraints.Hard(2,0.5)])"
   ]
  },
  {
   "cell_type": "code",
   "execution_count": 75,
   "metadata": {},
   "outputs": [],
   "source": [
    "dimensions = opt.space.dimensions"
   ]
  },
  {
   "cell_type": "code",
   "execution_count": 97,
   "metadata": {},
   "outputs": [],
   "source": [
    "columns = []\n",
    "n_samples = 100\n",
    "for dim in dimensions:\n",
    "    columns.append(dim.rvs(n_samples=n_samples))\n",
    "a = columns\n",
    "# Transpose\n",
    "rows = []\n",
    "for i in range(n_samples):\n",
    "    r = []\n",
    "    for j in range(len(dimensions)):\n",
    "        r.append(columns[j][i])\n",
    "\n",
    "    rows.append(r)"
   ]
  },
  {
   "cell_type": "code",
   "execution_count": 103,
   "metadata": {},
   "outputs": [],
   "source": [
    "columns = [None]*len(dimensions)\n",
    "n_samples = 100\n",
    "for i in range(len(dimensions)):\n",
    "    columns[i]=(dimensions[i].rvs(n_samples=n_samples))\n",
    "a = columns\n",
    "# Transpose\n",
    "rows = []\n",
    "for i in range(n_samples):\n",
    "    r = []\n",
    "    for j in range(len(dimensions)):\n",
    "        r.append(columns[j][i])\n",
    "\n",
    "    rows.append(r)"
   ]
  },
  {
   "cell_type": "code",
   "execution_count": 106,
   "metadata": {},
   "outputs": [
    {
     "name": "stdout",
     "output_type": "stream",
     "text": [
      "1\n",
      "2\n",
      "3\n",
      "4\n"
     ]
    }
   ],
   "source": [
    "a=[1,2,3,4]\n",
    "i=0\n",
    "for s in a:\n",
    "    i+=1\n",
    "    print(s)"
   ]
  },
  {
   "cell_type": "code",
   "execution_count": 107,
   "metadata": {},
   "outputs": [
    {
     "name": "stdout",
     "output_type": "stream",
     "text": [
      "1\n",
      "2\n",
      "3\n",
      "4\n"
     ]
    }
   ],
   "source": [
    "a=[1,2,3,4]\n",
    "for i in range(len(a)):\n",
    "    print(a[i])"
   ]
  },
  {
   "cell_type": "code",
   "execution_count": 92,
   "metadata": {},
   "outputs": [],
   "source": [
    "a = [None]*10"
   ]
  },
  {
   "cell_type": "code",
   "execution_count": 99,
   "metadata": {},
   "outputs": [
    {
     "data": {
      "text/plain": [
       "4"
      ]
     },
     "execution_count": 99,
     "metadata": {},
     "output_type": "execute_result"
    }
   ],
   "source": [
    "len(a)"
   ]
  },
  {
   "cell_type": "code",
   "execution_count": 104,
   "metadata": {},
   "outputs": [
    {
     "data": {
      "text/plain": [
       "[array([8.50073855, 7.16124756, 3.728996  , 3.98495725, 2.74576941,\n",
       "        4.0574288 , 7.26458383, 9.57519051, 2.30181009, 8.7324357 ,\n",
       "        2.35668225, 1.19509251, 7.58716115, 7.17025533, 6.56385564,\n",
       "        8.13429847, 7.43234707, 4.94711386, 2.73415419, 1.69114869,\n",
       "        9.70406889, 7.1371876 , 9.26395197, 3.97773888, 9.8285698 ,\n",
       "        8.83680017, 8.82044701, 9.57299197, 1.67115752, 3.57533811,\n",
       "        7.87197944, 3.10957989, 1.4545854 , 2.77775588, 8.36908719,\n",
       "        6.78315003, 3.94682906, 5.94553053, 4.86917765, 3.58053256,\n",
       "        3.79508819, 5.85765384, 3.04520809, 7.33278261, 9.3518227 ,\n",
       "        2.19919084, 9.97071298, 5.44790552, 8.06883545, 4.31611613,\n",
       "        9.30666757, 8.30452332, 3.44550663, 1.76132224, 2.30104168,\n",
       "        7.69897115, 2.1544391 , 5.06314003, 2.20576923, 7.59136503,\n",
       "        1.38225962, 5.53431289, 3.13768314, 5.70434829, 3.52263902,\n",
       "        1.45380948, 4.46401186, 3.32859446, 5.57215234, 5.35452813,\n",
       "        7.23440761, 6.56711185, 6.9442175 , 1.06066057, 4.40049244,\n",
       "        3.44278398, 1.97484393, 4.07984509, 8.52199824, 8.33413335,\n",
       "        9.38034009, 9.23948993, 6.31182854, 8.49928248, 7.16587899,\n",
       "        5.19207189, 4.46080685, 2.39176517, 6.71686963, 1.96472898,\n",
       "        2.94462049, 9.37966953, 2.80914108, 6.03929772, 1.13774027,\n",
       "        1.76475666, 8.38641257, 5.23654026, 9.70773993, 1.93246134]),\n",
       " array([ 7,  5,  2,  6,  7,  0,  1,  8,  0,  3,  8,  5,  8,  8,  8,  3,  3,\n",
       "         5,  7,  9,  6,  5,  2,  2,  5,  7,  4,  2,  5,  1,  9,  3,  2,  7,\n",
       "         6,  5,  7, 10,  9,  6,  1,  3,  8,  3,  5,  4,  7,  9,  6,  1,  7,\n",
       "         9, 10,  3,  2,  5,  0,  4,  2,  9,  7,  2,  6,  9,  8,  2,  9,  6,\n",
       "         4,  3,  6,  6,  6,  6,  2, 10,  0,  3,  3,  4, 10, 10,  4,  3,  9,\n",
       "         3,  0,  6, 10,  7,  9,  7,  0,  0,  6,  7,  9,  1,  0,  5]),\n",
       " ['a',\n",
       "  'a',\n",
       "  'c',\n",
       "  'c',\n",
       "  'b',\n",
       "  'c',\n",
       "  'b',\n",
       "  'b',\n",
       "  'c',\n",
       "  'c',\n",
       "  'b',\n",
       "  'b',\n",
       "  'c',\n",
       "  'c',\n",
       "  'b',\n",
       "  'b',\n",
       "  'a',\n",
       "  'b',\n",
       "  'a',\n",
       "  'c',\n",
       "  'a',\n",
       "  'b',\n",
       "  'a',\n",
       "  'c',\n",
       "  'a',\n",
       "  'c',\n",
       "  'b',\n",
       "  'c',\n",
       "  'a',\n",
       "  'b',\n",
       "  'a',\n",
       "  'c',\n",
       "  'c',\n",
       "  'c',\n",
       "  'a',\n",
       "  'a',\n",
       "  'b',\n",
       "  'c',\n",
       "  'b',\n",
       "  'c',\n",
       "  'b',\n",
       "  'c',\n",
       "  'c',\n",
       "  'c',\n",
       "  'c',\n",
       "  'c',\n",
       "  'c',\n",
       "  'a',\n",
       "  'a',\n",
       "  'a',\n",
       "  'c',\n",
       "  'c',\n",
       "  'b',\n",
       "  'a',\n",
       "  'c',\n",
       "  'a',\n",
       "  'a',\n",
       "  'b',\n",
       "  'c',\n",
       "  'c',\n",
       "  'a',\n",
       "  'a',\n",
       "  'b',\n",
       "  'b',\n",
       "  'a',\n",
       "  'c',\n",
       "  'a',\n",
       "  'c',\n",
       "  'b',\n",
       "  'b',\n",
       "  'b',\n",
       "  'b',\n",
       "  'b',\n",
       "  'c',\n",
       "  'b',\n",
       "  'b',\n",
       "  'a',\n",
       "  'b',\n",
       "  'c',\n",
       "  'c',\n",
       "  'b',\n",
       "  'c',\n",
       "  'b',\n",
       "  'c',\n",
       "  'b',\n",
       "  'c',\n",
       "  'b',\n",
       "  'a',\n",
       "  'a',\n",
       "  'b',\n",
       "  'c',\n",
       "  'a',\n",
       "  'b',\n",
       "  'c',\n",
       "  'a',\n",
       "  'c',\n",
       "  'b',\n",
       "  'a',\n",
       "  'c',\n",
       "  'c'],\n",
       " ['gini',\n",
       "  1,\n",
       "  'gini',\n",
       "  1,\n",
       "  1,\n",
       "  1,\n",
       "  'gini',\n",
       "  1,\n",
       "  'gini',\n",
       "  'gini',\n",
       "  1,\n",
       "  1,\n",
       "  'gini',\n",
       "  1,\n",
       "  'gini',\n",
       "  'gini',\n",
       "  1,\n",
       "  'gini',\n",
       "  'gini',\n",
       "  1,\n",
       "  'gini',\n",
       "  'gini',\n",
       "  1,\n",
       "  1,\n",
       "  'gini',\n",
       "  'gini',\n",
       "  'gini',\n",
       "  1,\n",
       "  'gini',\n",
       "  1,\n",
       "  'gini',\n",
       "  'gini',\n",
       "  'gini',\n",
       "  'gini',\n",
       "  'gini',\n",
       "  1,\n",
       "  1,\n",
       "  1,\n",
       "  'gini',\n",
       "  1,\n",
       "  'gini',\n",
       "  1,\n",
       "  1,\n",
       "  'gini',\n",
       "  1,\n",
       "  'gini',\n",
       "  'gini',\n",
       "  1,\n",
       "  'gini',\n",
       "  1,\n",
       "  1,\n",
       "  1,\n",
       "  1,\n",
       "  1,\n",
       "  1,\n",
       "  1,\n",
       "  'gini',\n",
       "  'gini',\n",
       "  1,\n",
       "  1,\n",
       "  1,\n",
       "  'gini',\n",
       "  1,\n",
       "  'gini',\n",
       "  1,\n",
       "  'gini',\n",
       "  'gini',\n",
       "  1,\n",
       "  1,\n",
       "  1,\n",
       "  'gini',\n",
       "  1,\n",
       "  1,\n",
       "  'gini',\n",
       "  'gini',\n",
       "  'gini',\n",
       "  1,\n",
       "  1,\n",
       "  1,\n",
       "  'gini',\n",
       "  1,\n",
       "  'gini',\n",
       "  1,\n",
       "  'gini',\n",
       "  1,\n",
       "  'gini',\n",
       "  'gini',\n",
       "  1,\n",
       "  1,\n",
       "  'gini',\n",
       "  'gini',\n",
       "  1,\n",
       "  1,\n",
       "  'gini',\n",
       "  'gini',\n",
       "  'gini',\n",
       "  'gini',\n",
       "  1,\n",
       "  'gini',\n",
       "  'gini']]"
      ]
     },
     "execution_count": 104,
     "metadata": {},
     "output_type": "execute_result"
    }
   ],
   "source": [
    "a"
   ]
  },
  {
   "cell_type": "code",
   "execution_count": 86,
   "metadata": {},
   "outputs": [
    {
     "data": {
      "text/plain": [
       "[[3.6532696160430724, 0, 'b', 'gini'],\n",
       " [5.616505336920783, 4, 'a', 'gini'],\n",
       " [6.888143600997304, 10, 'c', 'gini'],\n",
       " [8.597865923424788, 1, 'c', 1],\n",
       " [4.121041776633155, 6, 'a', 'gini'],\n",
       " [9.632862151459431, 3, 'a', 1],\n",
       " [8.60244548934589, 6, 'a', 'gini'],\n",
       " [6.101302256124959, 2, 'b', 'gini'],\n",
       " [1.667912462957557, 10, 'a', 1],\n",
       " [7.264805809208746, 10, 'b', 'gini'],\n",
       " [6.656595282127101, 10, 'b', 1],\n",
       " [4.8596757089686875, 6, 'a', 1],\n",
       " [9.041389900327548, 10, 'b', 'gini'],\n",
       " [8.451813234093866, 0, 'c', 'gini'],\n",
       " [4.236723046231383, 2, 'b', 'gini'],\n",
       " [5.9003328438124125, 1, 'a', 'gini'],\n",
       " [7.863679911109368, 0, 'b', 'gini'],\n",
       " [8.547179550269586, 2, 'a', 'gini'],\n",
       " [3.4985790310481364, 8, 'b', 'gini'],\n",
       " [6.485625498097905, 0, 'c', 1],\n",
       " [5.141028330496776, 7, 'a', 1],\n",
       " [1.6946011616263292, 4, 'a', 1],\n",
       " [4.2890532635829, 6, 'b', 1],\n",
       " [7.642804696185657, 0, 'b', 1],\n",
       " [4.239854832172597, 10, 'b', 'gini'],\n",
       " [5.617240974602742, 9, 'c', 1],\n",
       " [3.3974290602486423, 4, 'a', 1],\n",
       " [8.10848662357124, 8, 'a', 1],\n",
       " [4.311663345438604, 0, 'b', 1],\n",
       " [8.307374120053911, 1, 'c', 1],\n",
       " [7.212433111233127, 6, 'b', 'gini'],\n",
       " [9.825145285065563, 5, 'a', 1],\n",
       " [5.768909850363885, 5, 'b', 1],\n",
       " [9.286598062675521, 0, 'c', 1],\n",
       " [7.367365661557741, 8, 'a', 'gini'],\n",
       " [4.294013485678648, 6, 'c', 'gini'],\n",
       " [8.900652274605488, 0, 'a', 'gini'],\n",
       " [3.9741426460272917, 7, 'a', 'gini'],\n",
       " [1.350924530630004, 7, 'a', 'gini'],\n",
       " [9.966315067478146, 7, 'c', 'gini'],\n",
       " [9.69519939786839, 10, 'b', 'gini'],\n",
       " [2.920626288807405, 8, 'b', 1],\n",
       " [8.495716180930904, 4, 'b', 1],\n",
       " [5.1079054038365355, 10, 'c', 'gini'],\n",
       " [1.92486191731204, 8, 'a', 'gini'],\n",
       " [5.477120385397204, 4, 'b', 1],\n",
       " [4.47001286774127, 6, 'a', 1],\n",
       " [8.749444660616925, 9, 'a', 1],\n",
       " [7.998870239060781, 5, 'a', 1],\n",
       " [6.641504803390099, 4, 'b', 'gini'],\n",
       " [7.166223631143941, 1, 'a', 1],\n",
       " [2.924929002721159, 9, 'c', 1],\n",
       " [7.987820725755191, 10, 'b', 'gini'],\n",
       " [6.964508996407534, 5, 'c', 1],\n",
       " [3.2323891332137005, 5, 'b', 1],\n",
       " [1.6462651605863006, 8, 'c', 'gini'],\n",
       " [4.943878654245031, 1, 'c', 'gini'],\n",
       " [4.215743490062106, 6, 'c', 'gini'],\n",
       " [4.433061584175352, 10, 'a', 1],\n",
       " [6.103730407554216, 3, 'b', 1],\n",
       " [6.475026679646747, 7, 'a', 1],\n",
       " [3.1538166561119576, 2, 'a', 'gini'],\n",
       " [9.142093765390248, 8, 'a', 'gini'],\n",
       " [2.242163882717575, 3, 'a', 'gini'],\n",
       " [6.940892477531919, 8, 'a', 'gini'],\n",
       " [8.106488974313276, 2, 'a', 'gini'],\n",
       " [2.460505531055781, 5, 'b', 1],\n",
       " [8.48370244393524, 4, 'c', 'gini'],\n",
       " [8.872574961524759, 10, 'c', 'gini'],\n",
       " [4.139689664452516, 5, 'c', 1],\n",
       " [4.271102186153548, 3, 'a', 1],\n",
       " [7.488933311701094, 6, 'a', 1],\n",
       " [5.937296975015409, 7, 'a', 1],\n",
       " [1.0971163327797033, 7, 'a', 'gini'],\n",
       " [5.659250382464183, 1, 'a', 1],\n",
       " [1.3533528958999366, 8, 'a', 'gini'],\n",
       " [9.082245504875395, 0, 'a', 1],\n",
       " [1.772463956880574, 10, 'b', 'gini'],\n",
       " [4.353809312696007, 10, 'b', 'gini'],\n",
       " [6.185553188027142, 9, 'a', 1],\n",
       " [2.254081986082343, 3, 'a', 'gini'],\n",
       " [2.6874521283705097, 8, 'b', 'gini'],\n",
       " [2.2870490608895153, 0, 'a', 1],\n",
       " [1.3562025031492384, 5, 'a', 1],\n",
       " [4.395504167970697, 5, 'b', 'gini'],\n",
       " [6.705012966750784, 3, 'b', 1],\n",
       " [8.780493876419365, 8, 'c', 'gini'],\n",
       " [9.002585027315716, 4, 'c', 1],\n",
       " [4.407818985538974, 2, 'c', 1],\n",
       " [7.963075775530767, 1, 'a', 'gini'],\n",
       " [2.414485493656384, 6, 'b', 'gini'],\n",
       " [6.945506471168721, 1, 'c', 1],\n",
       " [4.649669069913467, 7, 'c', 'gini'],\n",
       " [1.6616692346682853, 5, 'a', 1],\n",
       " [8.533681873095087, 2, 'a', 'gini'],\n",
       " [6.462565317432247, 3, 'a', 1],\n",
       " [5.433850447078696, 3, 'b', 1],\n",
       " [7.837583851754735, 7, 'a', 'gini'],\n",
       " [4.927279495375454, 0, 'c', 'gini'],\n",
       " [9.079620261575972, 6, 'c', 1]]"
      ]
     },
     "execution_count": 86,
     "metadata": {},
     "output_type": "execute_result"
    }
   ],
   "source": [
    "rows"
   ]
  },
  {
   "cell_type": "code",
   "execution_count": 41,
   "metadata": {},
   "outputs": [
    {
     "data": {
      "text/plain": [
       "[[0, 'b', 0.5]]"
      ]
     },
     "execution_count": 41,
     "metadata": {},
     "output_type": "execute_result"
    }
   ],
   "source": [
    "a = constraints.rvs_constraints(SPACE, cons, n_samples=1, random_state = None)"
   ]
  },
  {
   "cell_type": "code",
   "execution_count": null,
   "metadata": {},
   "outputs": [],
   "source": []
  },
  {
   "cell_type": "code",
   "execution_count": 43,
   "metadata": {},
   "outputs": [],
   "source": [
    "a = constraints.rvs_constraints(SPACE, constraints_list, n_samples=100, random_state = None)"
   ]
  },
  {
   "cell_type": "code",
   "execution_count": 45,
   "metadata": {},
   "outputs": [],
   "source": [
    "a = [1,2]"
   ]
  },
  {
   "cell_type": "code",
   "execution_count": 70,
   "metadata": {},
   "outputs": [
    {
     "ename": "TypeError",
     "evalue": "hej",
     "output_type": "error",
     "traceback": [
      "\u001b[0;31m---------------------------------------------------------------------------\u001b[0m",
      "\u001b[0;31mTypeError\u001b[0m                                 Traceback (most recent call last)",
      "\u001b[0;32m<ipython-input-70-f3bbf00896c1>\u001b[0m in \u001b[0;36m<module>\u001b[0;34m\u001b[0m\n\u001b[0;32m----> 1\u001b[0;31m \u001b[0;32mif\u001b[0m \u001b[0;32mTrue\u001b[0m\u001b[0;34m:\u001b[0m \u001b[0;32mraise\u001b[0m \u001b[0mTypeError\u001b[0m\u001b[0;34m(\u001b[0m\u001b[0;34m'hej'\u001b[0m\u001b[0;34m)\u001b[0m\u001b[0;34m\u001b[0m\u001b[0;34m\u001b[0m\u001b[0m\n\u001b[0m",
      "\u001b[0;31mTypeError\u001b[0m: hej"
     ]
    }
   ],
   "source": [
    "if True: raise TypeError('hej')"
   ]
  },
  {
   "cell_type": "code",
   "execution_count": 48,
   "metadata": {},
   "outputs": [
    {
     "data": {
      "text/plain": [
       "False"
      ]
     },
     "execution_count": 48,
     "metadata": {},
     "output_type": "execute_result"
    }
   ],
   "source": [
    "not 1 in a"
   ]
  },
  {
   "cell_type": "code",
   "execution_count": 23,
   "metadata": {
    "scrolled": true
   },
   "outputs": [
    {
     "data": {
      "text/plain": [
       "Space([Integer(low=0, high=1),\n",
       "       Categorical(categories=('a', 'b', 'c'), prior=None)])"
      ]
     },
     "execution_count": 23,
     "metadata": {},
     "output_type": "execute_result"
    }
   ],
   "source": [
    "space.Space([[0,1],['a','b','c']])"
   ]
  },
  {
   "cell_type": "code",
   "execution_count": 66,
   "metadata": {},
   "outputs": [
    {
     "ename": "AssertionError",
     "evalue": "Constraint for Integer dimension must be of type int.",
     "output_type": "error",
     "traceback": [
      "\u001b[0;31m---------------------------------------------------------------------------\u001b[0m",
      "\u001b[0;31mAssertionError\u001b[0m                            Traceback (most recent call last)",
      "\u001b[0;32m<ipython-input-66-a157709492ce>\u001b[0m in \u001b[0;36m<module>\u001b[0;34m\u001b[0m\n\u001b[0;32m----> 1\u001b[0;31m \u001b[0mopt\u001b[0m\u001b[0;34m.\u001b[0m\u001b[0madd_constraints\u001b[0m\u001b[0;34m(\u001b[0m\u001b[0mcons\u001b[0m\u001b[0;34m)\u001b[0m\u001b[0;34m\u001b[0m\u001b[0;34m\u001b[0m\u001b[0m\n\u001b[0m",
      "\u001b[0;32m~/dev/ProcessOptimizer/ProcessOptimizer/optimizer/optimizer.py\u001b[0m in \u001b[0;36madd_constraints\u001b[0;34m(self, constraints_list)\u001b[0m\n\u001b[1;32m    608\u001b[0m     \u001b[0;32mdef\u001b[0m \u001b[0madd_constraints\u001b[0m\u001b[0;34m(\u001b[0m\u001b[0mself\u001b[0m\u001b[0;34m,\u001b[0m\u001b[0mconstraints_list\u001b[0m\u001b[0;34m)\u001b[0m\u001b[0;34m:\u001b[0m\u001b[0;34m\u001b[0m\u001b[0;34m\u001b[0m\u001b[0m\n\u001b[1;32m    609\u001b[0m         \u001b[0;32mif\u001b[0m \u001b[0mconstraints_list\u001b[0m\u001b[0;34m:\u001b[0m\u001b[0;34m\u001b[0m\u001b[0;34m\u001b[0m\u001b[0m\n\u001b[0;32m--> 610\u001b[0;31m             \u001b[0mcheck_constraints\u001b[0m\u001b[0;34m(\u001b[0m\u001b[0mself\u001b[0m\u001b[0;34m.\u001b[0m\u001b[0mspace\u001b[0m\u001b[0;34m,\u001b[0m\u001b[0mconstraints_list\u001b[0m\u001b[0;34m)\u001b[0m\u001b[0;34m\u001b[0m\u001b[0;34m\u001b[0m\u001b[0m\n\u001b[0m\u001b[1;32m    611\u001b[0m             \u001b[0mself\u001b[0m\u001b[0;34m.\u001b[0m\u001b[0mconstraints\u001b[0m \u001b[0;34m=\u001b[0m \u001b[0mconstraints_list\u001b[0m\u001b[0;34m\u001b[0m\u001b[0;34m\u001b[0m\u001b[0m\n\u001b[1;32m    612\u001b[0m         \u001b[0;32melse\u001b[0m\u001b[0;34m:\u001b[0m\u001b[0;34m\u001b[0m\u001b[0;34m\u001b[0m\u001b[0m\n",
      "\u001b[0;32m~/dev/ProcessOptimizer/ProcessOptimizer/space/constraints.py\u001b[0m in \u001b[0;36mcheck_constraints\u001b[0;34m(space, constraints)\u001b[0m\n\u001b[1;32m    134\u001b[0m                 \u001b[0;32massert\u001b[0m \u001b[0mtype\u001b[0m\u001b[0;34m(\u001b[0m\u001b[0mconstraints\u001b[0m\u001b[0;34m[\u001b[0m\u001b[0mi\u001b[0m\u001b[0;34m]\u001b[0m\u001b[0;34m.\u001b[0m\u001b[0mvalue\u001b[0m\u001b[0;34m)\u001b[0m \u001b[0;34m==\u001b[0m \u001b[0mint\u001b[0m \u001b[0;32mor\u001b[0m \u001b[0mtype\u001b[0m\u001b[0;34m(\u001b[0m\u001b[0mconstraints\u001b[0m\u001b[0;34m[\u001b[0m\u001b[0mi\u001b[0m\u001b[0;34m]\u001b[0m\u001b[0;34m.\u001b[0m\u001b[0mvalue\u001b[0m\u001b[0;34m)\u001b[0m \u001b[0;34m==\u001b[0m \u001b[0mfloat\u001b[0m\u001b[0;34m,\u001b[0m \u001b[0;34m\"Constraint for Real dimension must be of type float or int.\"\u001b[0m\u001b[0;34m\u001b[0m\u001b[0;34m\u001b[0m\u001b[0m\n\u001b[1;32m    135\u001b[0m             \u001b[0;32melif\u001b[0m \u001b[0misinstance\u001b[0m\u001b[0;34m(\u001b[0m\u001b[0mspace\u001b[0m\u001b[0;34m.\u001b[0m\u001b[0mdimensions\u001b[0m\u001b[0;34m[\u001b[0m\u001b[0mdimension\u001b[0m\u001b[0;34m]\u001b[0m\u001b[0;34m,\u001b[0m\u001b[0mInteger\u001b[0m\u001b[0;34m)\u001b[0m\u001b[0;34m:\u001b[0m\u001b[0;34m\u001b[0m\u001b[0;34m\u001b[0m\u001b[0m\n\u001b[0;32m--> 136\u001b[0;31m                 \u001b[0;32massert\u001b[0m \u001b[0mtype\u001b[0m\u001b[0;34m(\u001b[0m\u001b[0mconstraints\u001b[0m\u001b[0;34m[\u001b[0m\u001b[0mi\u001b[0m\u001b[0;34m]\u001b[0m\u001b[0;34m.\u001b[0m\u001b[0mvalue\u001b[0m\u001b[0;34m)\u001b[0m \u001b[0;34m==\u001b[0m \u001b[0mint\u001b[0m\u001b[0;34m,\u001b[0m \u001b[0;34m\"Constraint for Integer dimension must be of type int.\"\u001b[0m\u001b[0;34m\u001b[0m\u001b[0;34m\u001b[0m\u001b[0m\n\u001b[0m\u001b[1;32m    137\u001b[0m             \u001b[0;32melif\u001b[0m \u001b[0misinstance\u001b[0m\u001b[0;34m(\u001b[0m\u001b[0mspace\u001b[0m\u001b[0;34m.\u001b[0m\u001b[0mdimensions\u001b[0m\u001b[0;34m[\u001b[0m\u001b[0mdimension\u001b[0m\u001b[0;34m]\u001b[0m\u001b[0;34m,\u001b[0m\u001b[0mCategorical\u001b[0m\u001b[0;34m)\u001b[0m\u001b[0;34m:\u001b[0m\u001b[0;34m\u001b[0m\u001b[0;34m\u001b[0m\u001b[0m\n\u001b[1;32m    138\u001b[0m                 \u001b[0;32massert\u001b[0m \u001b[0mtype\u001b[0m\u001b[0;34m(\u001b[0m\u001b[0mconstraints\u001b[0m\u001b[0;34m[\u001b[0m\u001b[0mi\u001b[0m\u001b[0;34m]\u001b[0m\u001b[0;34m.\u001b[0m\u001b[0mvalue\u001b[0m\u001b[0;34m)\u001b[0m \u001b[0;34m==\u001b[0m \u001b[0mstr\u001b[0m\u001b[0;34m,\u001b[0m \u001b[0;34m\"Constraint for Categorical dimension must be of type str.\"\u001b[0m\u001b[0;34m\u001b[0m\u001b[0;34m\u001b[0m\u001b[0m\n",
      "\u001b[0;31mAssertionError\u001b[0m: Constraint for Integer dimension must be of type int."
     ]
    }
   ],
   "source": [
    "opt.add_constraints(cons)"
   ]
  },
  {
   "cell_type": "code",
   "execution_count": 65,
   "metadata": {},
   "outputs": [
    {
     "data": {
      "text/plain": [
       "Space([Real(low=1, high=10, prior='uniform', transform='normalize'),\n",
       "       Integer(low=0, high=10),\n",
       "       Categorical(categories=('a', 'b', 'c'), prior=None),\n",
       "       Categorical(categories=('gini', 1), prior=None)])"
      ]
     },
     "execution_count": 65,
     "metadata": {},
     "output_type": "execute_result"
    }
   ],
   "source": [
    "opt.space"
   ]
  },
  {
   "cell_type": "code",
   "execution_count": 5,
   "metadata": {},
   "outputs": [],
   "source": [
    "opt = Optimizer(SPACE, \"ET\", acq_optimizer=\"sampling\")"
   ]
  },
  {
   "cell_type": "code",
   "execution_count": 6,
   "metadata": {},
   "outputs": [],
   "source": [
    "opt = Optimizer(SPACE,acq_optimizer=\"sampling\")\n"
   ]
  },
  {
   "cell_type": "code",
   "execution_count": 26,
   "metadata": {},
   "outputs": [],
   "source": [
    "cons = [constraints.Exclusive(0,[1,9]),\n",
    "       constraints.Inclusive(1,[4,5])]\n",
    "#cons = [2]"
   ]
  },
  {
   "cell_type": "code",
   "execution_count": 11,
   "metadata": {},
   "outputs": [],
   "source": [
    "cons2 = [constraints.Exclusive(0,[1,9]),\n",
    "       constraints.Inclusive(1,[3,5])]\n",
    "#cons = [2]"
   ]
  },
  {
   "cell_type": "code",
   "execution_count": 8,
   "metadata": {},
   "outputs": [],
   "source": [
    "from sklearn.utils.testing import assert_array_equal"
   ]
  },
  {
   "cell_type": "code",
   "execution_count": 13,
   "metadata": {},
   "outputs": [],
   "source": [
    "a=['a','a']"
   ]
  },
  {
   "cell_type": "code",
   "execution_count": 18,
   "metadata": {},
   "outputs": [
    {
     "data": {
      "text/plain": [
       "True"
      ]
     },
     "execution_count": 18,
     "metadata": {},
     "output_type": "execute_result"
    }
   ],
   "source": [
    "all([k == 'a' for k in a])"
   ]
  },
  {
   "cell_type": "code",
   "execution_count": 14,
   "metadata": {},
   "outputs": [
    {
     "ename": "TypeError",
     "evalue": "'bool' object is not iterable",
     "output_type": "error",
     "traceback": [
      "\u001b[0;31m---------------------------------------------------------------------------\u001b[0m",
      "\u001b[0;31mTypeError\u001b[0m                                 Traceback (most recent call last)",
      "\u001b[0;32m<ipython-input-14-1a283cff5b64>\u001b[0m in \u001b[0;36m<module>\u001b[0;34m\u001b[0m\n\u001b[0;32m----> 1\u001b[0;31m \u001b[0mall\u001b[0m\u001b[0;34m(\u001b[0m\u001b[0ma\u001b[0m\u001b[0;34m==\u001b[0m\u001b[0;34m'a'\u001b[0m\u001b[0;34m)\u001b[0m\u001b[0;34m\u001b[0m\u001b[0;34m\u001b[0m\u001b[0m\n\u001b[0m",
      "\u001b[0;31mTypeError\u001b[0m: 'bool' object is not iterable"
     ]
    }
   ],
   "source": [
    "all(a=='a')"
   ]
  },
  {
   "cell_type": "code",
   "execution_count": 12,
   "metadata": {},
   "outputs": [
    {
     "ename": "AssertionError",
     "evalue": "\nArrays are not equal\n\nMismatch: 50%\n x: array([Exclusive(dimension=0, bounds=[1, 9]),\n       Inclusive(dimension=1, bounds=[4, 5])], dtype=object)\n y: array([Exclusive(dimension=0, bounds=[1, 9]),\n       Inclusive(dimension=1, bounds=[3, 5])], dtype=object)",
     "output_type": "error",
     "traceback": [
      "\u001b[0;31m---------------------------------------------------------------------------\u001b[0m",
      "\u001b[0;31mAssertionError\u001b[0m                            Traceback (most recent call last)",
      "\u001b[0;32m<ipython-input-12-710af6b7ac87>\u001b[0m in \u001b[0;36m<module>\u001b[0;34m\u001b[0m\n\u001b[0;32m----> 1\u001b[0;31m \u001b[0massert_array_equal\u001b[0m\u001b[0;34m(\u001b[0m\u001b[0mcons\u001b[0m\u001b[0;34m,\u001b[0m\u001b[0mcons2\u001b[0m\u001b[0;34m)\u001b[0m\u001b[0;34m\u001b[0m\u001b[0;34m\u001b[0m\u001b[0m\n\u001b[0m",
      "\u001b[0;32m~/.local/lib/python3.6/site-packages/numpy/testing/_private/utils.py\u001b[0m in \u001b[0;36massert_array_equal\u001b[0;34m(x, y, err_msg, verbose)\u001b[0m\n\u001b[1;32m    894\u001b[0m     \u001b[0m__tracebackhide__\u001b[0m \u001b[0;34m=\u001b[0m \u001b[0;32mTrue\u001b[0m  \u001b[0;31m# Hide traceback for py.test\u001b[0m\u001b[0;34m\u001b[0m\u001b[0;34m\u001b[0m\u001b[0m\n\u001b[1;32m    895\u001b[0m     assert_array_compare(operator.__eq__, x, y, err_msg=err_msg,\n\u001b[0;32m--> 896\u001b[0;31m                          verbose=verbose, header='Arrays are not equal')\n\u001b[0m\u001b[1;32m    897\u001b[0m \u001b[0;34m\u001b[0m\u001b[0m\n\u001b[1;32m    898\u001b[0m \u001b[0;34m\u001b[0m\u001b[0m\n",
      "\u001b[0;32m~/.local/lib/python3.6/site-packages/numpy/testing/_private/utils.py\u001b[0m in \u001b[0;36massert_array_compare\u001b[0;34m(comparison, x, y, err_msg, verbose, header, precision, equal_nan, equal_inf)\u001b[0m\n\u001b[1;32m    817\u001b[0m                                 \u001b[0mverbose\u001b[0m\u001b[0;34m=\u001b[0m\u001b[0mverbose\u001b[0m\u001b[0;34m,\u001b[0m \u001b[0mheader\u001b[0m\u001b[0;34m=\u001b[0m\u001b[0mheader\u001b[0m\u001b[0;34m,\u001b[0m\u001b[0;34m\u001b[0m\u001b[0;34m\u001b[0m\u001b[0m\n\u001b[1;32m    818\u001b[0m                                 names=('x', 'y'), precision=precision)\n\u001b[0;32m--> 819\u001b[0;31m             \u001b[0;32mraise\u001b[0m \u001b[0mAssertionError\u001b[0m\u001b[0;34m(\u001b[0m\u001b[0mmsg\u001b[0m\u001b[0;34m)\u001b[0m\u001b[0;34m\u001b[0m\u001b[0;34m\u001b[0m\u001b[0m\n\u001b[0m\u001b[1;32m    820\u001b[0m     \u001b[0;32mexcept\u001b[0m \u001b[0mValueError\u001b[0m\u001b[0;34m:\u001b[0m\u001b[0;34m\u001b[0m\u001b[0;34m\u001b[0m\u001b[0m\n\u001b[1;32m    821\u001b[0m         \u001b[0;32mimport\u001b[0m \u001b[0mtraceback\u001b[0m\u001b[0;34m\u001b[0m\u001b[0;34m\u001b[0m\u001b[0m\n",
      "\u001b[0;31mAssertionError\u001b[0m: \nArrays are not equal\n\nMismatch: 50%\n x: array([Exclusive(dimension=0, bounds=[1, 9]),\n       Inclusive(dimension=1, bounds=[4, 5])], dtype=object)\n y: array([Exclusive(dimension=0, bounds=[1, 9]),\n       Inclusive(dimension=1, bounds=[3, 5])], dtype=object)"
     ]
    }
   ],
   "source": [
    "assert_array_equal(cons,cons2)"
   ]
  },
  {
   "cell_type": "code",
   "execution_count": null,
   "metadata": {},
   "outputs": [],
   "source": []
  },
  {
   "cell_type": "code",
   "execution_count": 16,
   "metadata": {},
   "outputs": [],
   "source": [
    "cons = [constraints.Hard(0,2),\n",
    "       constraints.Inclusive(1,[4,5]),\n",
    "       constraints.Inclusive(2,['b','a'])]"
   ]
  },
  {
   "cell_type": "code",
   "execution_count": 17,
   "metadata": {},
   "outputs": [],
   "source": [
    "cons2 = [constraints.Hard(0,2),\n",
    "       constraints.Inclusive(1,[4,5])]"
   ]
  },
  {
   "cell_type": "code",
   "execution_count": 18,
   "metadata": {},
   "outputs": [
    {
     "data": {
      "text/plain": [
       "False"
      ]
     },
     "execution_count": 18,
     "metadata": {},
     "output_type": "execute_result"
    }
   ],
   "source": [
    "cons == cons2"
   ]
  },
  {
   "cell_type": "code",
   "execution_count": 19,
   "metadata": {},
   "outputs": [],
   "source": [
    "opt.add_constraints(cons)"
   ]
  },
  {
   "cell_type": "code",
   "execution_count": 20,
   "metadata": {},
   "outputs": [],
   "source": [
    "opt._constraints = cons"
   ]
  },
  {
   "cell_type": "code",
   "execution_count": 71,
   "metadata": {},
   "outputs": [],
   "source": [
    "next_x= opt.ask()"
   ]
  },
  {
   "cell_type": "code",
   "execution_count": 72,
   "metadata": {},
   "outputs": [
    {
     "data": {
      "text/plain": [
       "[5.0745682833703105, 10, 'c', 'gini']"
      ]
     },
     "execution_count": 72,
     "metadata": {},
     "output_type": "execute_result"
    }
   ],
   "source": [
    "next_x"
   ]
  },
  {
   "cell_type": "code",
   "execution_count": 6,
   "metadata": {},
   "outputs": [
    {
     "data": {
      "text/plain": [
       "[5.478972998253845, 5, 'b', 1]"
      ]
     },
     "execution_count": 6,
     "metadata": {},
     "output_type": "execute_result"
    }
   ],
   "source": [
    "next_x= opt.ask()\n",
    "next_x"
   ]
  },
  {
   "cell_type": "code",
   "execution_count": 7,
   "metadata": {},
   "outputs": [
    {
     "data": {
      "text/plain": [
       "56.299145115594726"
      ]
     },
     "execution_count": 7,
     "metadata": {},
     "output_type": "execute_result"
    }
   ],
   "source": [
    "f_val = funny_func(next_x)\n",
    "f_val"
   ]
  },
  {
   "cell_type": "code",
   "execution_count": 8,
   "metadata": {},
   "outputs": [
    {
     "data": {
      "text/plain": [
       "          fun: 56.299145115594726\n",
       "    func_vals: array([56.29914512])\n",
       "       models: []\n",
       " random_state: <mtrand.RandomState object at 0x7f41b8028438>\n",
       "        space: Space([Real(low=1, high=10, prior='uniform', transform='normalize'),\n",
       "       Integer(low=0, high=10),\n",
       "       Categorical(categories=('a', 'b', 'c'), prior=None),\n",
       "       Categorical(categories=('gini', 1), prior=None)])\n",
       "        specs: None\n",
       "            x: [5.478972998253845, 5, 'b', 1]\n",
       "      x_iters: [[5.478972998253845, 5, 'b', 1]]"
      ]
     },
     "execution_count": 8,
     "metadata": {},
     "output_type": "execute_result"
    }
   ],
   "source": [
    "opt.tell(next_x, f_val)"
   ]
  },
  {
   "cell_type": "code",
   "execution_count": 13,
   "metadata": {},
   "outputs": [],
   "source": [
    "opt.remove_constraints()"
   ]
  },
  {
   "cell_type": "code",
   "execution_count": 16,
   "metadata": {},
   "outputs": [],
   "source": [
    "cons = [constraints.Exclusive(0,[1,9]),\n",
    "       constraints.Inclusive(1,[4,5])]\n",
    "opt.add_constraints(cons)"
   ]
  },
  {
   "cell_type": "code",
   "execution_count": 18,
   "metadata": {},
   "outputs": [],
   "source": [
    "cons = [constraints.Hard(0,2),\n",
    "       constraints.Inclusive(1,[4,5]),\n",
    "       constraints.Inclusive(2,['b'])]\n",
    "opt.add_constraints(cons)"
   ]
  },
  {
   "cell_type": "code",
   "execution_count": 69,
   "metadata": {},
   "outputs": [
    {
     "name": "stdout",
     "output_type": "stream",
     "text": [
      "constraints are not the same\n"
     ]
    },
    {
     "data": {
      "text/plain": [
       "[2.3595361718641708, 3, 'a', 'gini']"
      ]
     },
     "execution_count": 69,
     "metadata": {},
     "output_type": "execute_result"
    }
   ],
   "source": [
    "opt.ask()"
   ]
  },
  {
   "cell_type": "code",
   "execution_count": 38,
   "metadata": {},
   "outputs": [
    {
     "name": "stdout",
     "output_type": "stream",
     "text": [
      "constraints are not the same\n"
     ]
    }
   ],
   "source": [
    "next_x= opt.ask(n_points = 3)"
   ]
  },
  {
   "cell_type": "code",
   "execution_count": 23,
   "metadata": {},
   "outputs": [
    {
     "data": {
      "text/plain": [
       "[Hard(dimension=0, value=2),\n",
       " Inclusive(dimension=1, bounds=[4, 5]),\n",
       " Inclusive(dimension=2, bounds=['b'])]"
      ]
     },
     "execution_count": 23,
     "metadata": {},
     "output_type": "execute_result"
    }
   ],
   "source": [
    "opt.constraints"
   ]
  },
  {
   "cell_type": "code",
   "execution_count": 24,
   "metadata": {},
   "outputs": [
    {
     "data": {
      "text/plain": [
       "[Hard(dimension=0, value=2),\n",
       " Inclusive(dimension=1, bounds=[4, 5]),\n",
       " Inclusive(dimension=2, bounds=['b'])]"
      ]
     },
     "execution_count": 24,
     "metadata": {},
     "output_type": "execute_result"
    }
   ],
   "source": [
    "hej.constraints"
   ]
  },
  {
   "cell_type": "code",
   "execution_count": 29,
   "metadata": {},
   "outputs": [
    {
     "data": {
      "text/plain": [
       "[2.0, 4, 'b', 'entropy']"
      ]
     },
     "execution_count": 29,
     "metadata": {},
     "output_type": "execute_result"
    }
   ],
   "source": [
    "hej.ask()"
   ]
  },
  {
   "cell_type": "code",
   "execution_count": 22,
   "metadata": {},
   "outputs": [],
   "source": [
    "hej = opt.copy()"
   ]
  },
  {
   "cell_type": "code",
   "execution_count": null,
   "metadata": {},
   "outputs": [],
   "source": []
  },
  {
   "cell_type": "code",
   "execution_count": 73,
   "metadata": {},
   "outputs": [
    {
     "data": {
      "text/plain": [
       "[Hard(dimension=0, value=2),\n",
       " Inclusive(dimension=1, bounds=[4, 5]),\n",
       " Inclusive(dimension=2, bounds=['b'])]"
      ]
     },
     "execution_count": 73,
     "metadata": {},
     "output_type": "execute_result"
    }
   ],
   "source": [
    "opt.constraints"
   ]
  },
  {
   "cell_type": "code",
   "execution_count": null,
   "metadata": {},
   "outputs": [],
   "source": []
  },
  {
   "cell_type": "code",
   "execution_count": 18,
   "metadata": {},
   "outputs": [],
   "source": [
    "c = opt.list_of_constraints[0]"
   ]
  },
  {
   "cell_type": "code",
   "execution_count": 19,
   "metadata": {},
   "outputs": [],
   "source": [
    "d  =opt.constraints"
   ]
  },
  {
   "cell_type": "code",
   "execution_count": 12,
   "metadata": {},
   "outputs": [
    {
     "data": {
      "text/plain": [
       "NoneType"
      ]
     },
     "execution_count": 12,
     "metadata": {},
     "output_type": "execute_result"
    }
   ],
   "source": [
    "type(opt.constraints)"
   ]
  },
  {
   "cell_type": "code",
   "execution_count": null,
   "metadata": {},
   "outputs": [],
   "source": []
  },
  {
   "cell_type": "code",
   "execution_count": 16,
   "metadata": {},
   "outputs": [
    {
     "data": {
      "text/plain": [
       "True"
      ]
     },
     "execution_count": 16,
     "metadata": {},
     "output_type": "execute_result"
    }
   ],
   "source": [
    "c == d"
   ]
  },
  {
   "cell_type": "code",
   "execution_count": 18,
   "metadata": {},
   "outputs": [
    {
     "data": {
      "text/plain": [
       "False"
      ]
     },
     "execution_count": 18,
     "metadata": {},
     "output_type": "execute_result"
    }
   ],
   "source": [
    "[0,1,2] == [[1,2],[3,2,1,'a']]"
   ]
  },
  {
   "cell_type": "code",
   "execution_count": 15,
   "metadata": {},
   "outputs": [
    {
     "ename": "TypeError",
     "evalue": "zip argument #1 must support iteration",
     "output_type": "error",
     "traceback": [
      "\u001b[0;31m---------------------------------------------------------------------------\u001b[0m",
      "\u001b[0;31mTypeError\u001b[0m                                 Traceback (most recent call last)",
      "\u001b[0;32m<ipython-input-15-949bba117044>\u001b[0m in \u001b[0;36m<module>\u001b[0;34m\u001b[0m\n\u001b[0;32m----> 1\u001b[0;31m \u001b[0mall\u001b[0m\u001b[0;34m(\u001b[0m\u001b[0;34m[\u001b[0m\u001b[0ma\u001b[0m \u001b[0;34m==\u001b[0m \u001b[0mb\u001b[0m \u001b[0;32mfor\u001b[0m \u001b[0ma\u001b[0m\u001b[0;34m,\u001b[0m \u001b[0mb\u001b[0m \u001b[0;32min\u001b[0m \u001b[0mzip\u001b[0m\u001b[0;34m(\u001b[0m\u001b[0mc\u001b[0m\u001b[0;34m,\u001b[0m \u001b[0md\u001b[0m\u001b[0;34m)\u001b[0m\u001b[0;34m]\u001b[0m\u001b[0;34m)\u001b[0m\u001b[0;34m\u001b[0m\u001b[0;34m\u001b[0m\u001b[0m\n\u001b[0m",
      "\u001b[0;31mTypeError\u001b[0m: zip argument #1 must support iteration"
     ]
    }
   ],
   "source": [
    "all([a == b for a, b in zip(c, d)])"
   ]
  },
  {
   "cell_type": "code",
   "execution_count": 23,
   "metadata": {},
   "outputs": [
    {
     "data": {
      "text/plain": [
       "[1.6965080895465003, 3, 'a', 'gini']"
      ]
     },
     "execution_count": 23,
     "metadata": {},
     "output_type": "execute_result"
    }
   ],
   "source": [
    "next_x= opt.ask()\n",
    "next_x"
   ]
  },
  {
   "cell_type": "code",
   "execution_count": 26,
   "metadata": {},
   "outputs": [
    {
     "data": {
      "text/plain": [
       "12.483733800454678"
      ]
     },
     "execution_count": 26,
     "metadata": {},
     "output_type": "execute_result"
    }
   ],
   "source": [
    "opt.yi.pop()"
   ]
  },
  {
   "cell_type": "code",
   "execution_count": 27,
   "metadata": {},
   "outputs": [
    {
     "data": {
      "text/plain": [
       "[55.7205736870233,\n",
       " 113.94440770743553,\n",
       " 170.12417214601976,\n",
       " 29.60805290886856,\n",
       " 37.24926524880415,\n",
       " 22.78091295592957,\n",
       " 12.44463120849616,\n",
       " 126.39874326258791,\n",
       " 25.87805690070754,\n",
       " 28.349953647106272,\n",
       " 11.822359568254495,\n",
       " 29.676473345364013]"
      ]
     },
     "execution_count": 27,
     "metadata": {},
     "output_type": "execute_result"
    }
   ],
   "source": [
    "opt.yi"
   ]
  },
  {
   "cell_type": "code",
   "execution_count": 28,
   "metadata": {},
   "outputs": [
    {
     "data": {
      "text/plain": [
       "[1.6900395854697243, 3, 'a', 'gini']"
      ]
     },
     "execution_count": 28,
     "metadata": {},
     "output_type": "execute_result"
    }
   ],
   "source": [
    "opt.Xi.pop()"
   ]
  },
  {
   "cell_type": "code",
   "execution_count": 29,
   "metadata": {},
   "outputs": [
    {
     "data": {
      "text/plain": [
       "[[5.478972998253845, 5, 'b', 'entropy'],\n",
       " [8.019782273069234, 7, 'a', 'gini'],\n",
       " [8.33646640645902, 10, 'a', 'gini'],\n",
       " [5.381500990324963, 0, 'c', 'gini'],\n",
       " [6.050765674590625, 0, 'b', 'gini'],\n",
       " [3.6165569792968832, 3, 'b', 'entropy'],\n",
       " [1.678431174786789, 3, 'a', 'gini'],\n",
       " [5.0745682833703105, 10, 'c', 'gini'],\n",
       " [4.917990273402233, 1, 'a', 'entropy'],\n",
       " [5.1631894286068665, 1, 'a', 'entropy'],\n",
       " [1.481505844826302, 3, 'a', 'gini'],\n",
       " [3.612336272464679, 4, 'a', 'gini']]"
      ]
     },
     "execution_count": 29,
     "metadata": {},
     "output_type": "execute_result"
    }
   ],
   "source": [
    "opt.Xi"
   ]
  },
  {
   "cell_type": "code",
   "execution_count": 25,
   "metadata": {},
   "outputs": [
    {
     "data": {
      "text/plain": [
       "[2.0, 4, 'a', 'gini']"
      ]
     },
     "execution_count": 25,
     "metadata": {},
     "output_type": "execute_result"
    }
   ],
   "source": [
    "next_x= opt.ask()\n",
    "next_x"
   ]
  },
  {
   "cell_type": "code",
   "execution_count": 19,
   "metadata": {},
   "outputs": [
    {
     "data": {
      "text/plain": [
       "7"
      ]
     },
     "execution_count": 19,
     "metadata": {},
     "output_type": "execute_result"
    }
   ],
   "source": [
    "len(opt.list_of_constraints)"
   ]
  },
  {
   "cell_type": "code",
   "execution_count": 26,
   "metadata": {},
   "outputs": [
    {
     "data": {
      "text/plain": [
       "6"
      ]
     },
     "execution_count": 26,
     "metadata": {},
     "output_type": "execute_result"
    }
   ],
   "source": [
    "len(opt.yi)"
   ]
  },
  {
   "cell_type": "code",
   "execution_count": 29,
   "metadata": {},
   "outputs": [
    {
     "data": {
      "text/plain": [
       "6"
      ]
     },
     "execution_count": 29,
     "metadata": {},
     "output_type": "execute_result"
    }
   ],
   "source": [
    "len(opt.Xi)"
   ]
  },
  {
   "cell_type": "code",
   "execution_count": null,
   "metadata": {},
   "outputs": [],
   "source": []
  },
  {
   "cell_type": "code",
   "execution_count": 24,
   "metadata": {},
   "outputs": [
    {
     "data": {
      "text/plain": [
       "['Xi',\n",
       " '__class__',\n",
       " '__delattr__',\n",
       " '__dict__',\n",
       " '__dir__',\n",
       " '__doc__',\n",
       " '__eq__',\n",
       " '__format__',\n",
       " '__ge__',\n",
       " '__getattribute__',\n",
       " '__gt__',\n",
       " '__hash__',\n",
       " '__init__',\n",
       " '__init_subclass__',\n",
       " '__le__',\n",
       " '__lt__',\n",
       " '__module__',\n",
       " '__ne__',\n",
       " '__new__',\n",
       " '__reduce__',\n",
       " '__reduce_ex__',\n",
       " '__repr__',\n",
       " '__setattr__',\n",
       " '__sizeof__',\n",
       " '__str__',\n",
       " '__subclasshook__',\n",
       " '__weakref__',\n",
       " '_ask',\n",
       " '_cat_inds',\n",
       " '_check_y_is_valid',\n",
       " '_n_initial_points',\n",
       " '_non_cat_inds',\n",
       " '_tell',\n",
       " 'acq_func',\n",
       " 'acq_func_kwargs',\n",
       " 'acq_optimizer',\n",
       " 'acq_optimizer_kwargs',\n",
       " 'add_constraints',\n",
       " 'ask',\n",
       " 'base_estimator_',\n",
       " 'cache_',\n",
       " 'cand_acq_funcs_',\n",
       " 'constraints',\n",
       " 'copy',\n",
       " 'eta',\n",
       " 'gains_',\n",
       " 'list_of_constraints',\n",
       " 'models',\n",
       " 'n_initial_points_',\n",
       " 'n_jobs',\n",
       " 'n_points',\n",
       " 'n_restarts_optimizer',\n",
       " 'remove_constraints',\n",
       " 'rng',\n",
       " 'run',\n",
       " 'space',\n",
       " 'tell',\n",
       " 'yi']"
      ]
     },
     "execution_count": 24,
     "metadata": {},
     "output_type": "execute_result"
    }
   ],
   "source": [
    "dir(opt)"
   ]
  },
  {
   "cell_type": "code",
   "execution_count": 23,
   "metadata": {},
   "outputs": [
    {
     "ename": "AttributeError",
     "evalue": "'Optimizer' object has no attribute 'xi'",
     "output_type": "error",
     "traceback": [
      "\u001b[0;31m---------------------------------------------------------------------------\u001b[0m",
      "\u001b[0;31mAttributeError\u001b[0m                            Traceback (most recent call last)",
      "\u001b[0;32m<ipython-input-23-c00385c92510>\u001b[0m in \u001b[0;36m<module>\u001b[0;34m\u001b[0m\n\u001b[0;32m----> 1\u001b[0;31m \u001b[0mlen\u001b[0m\u001b[0;34m(\u001b[0m\u001b[0mopt\u001b[0m\u001b[0;34m.\u001b[0m\u001b[0mxi\u001b[0m\u001b[0;34m)\u001b[0m\u001b[0;34m\u001b[0m\u001b[0;34m\u001b[0m\u001b[0m\n\u001b[0m",
      "\u001b[0;31mAttributeError\u001b[0m: 'Optimizer' object has no attribute 'xi'"
     ]
    }
   ],
   "source": [
    "len(opt.xi)"
   ]
  },
  {
   "cell_type": "code",
   "execution_count": 16,
   "metadata": {},
   "outputs": [
    {
     "data": {
      "text/plain": [
       "[[Hard(dimension=0, value=2),\n",
       "  Inclusive(dimension=1, bounds=[4, 5]),\n",
       "  Inclusive(dimension=2, bounds=['b', 'a'])],\n",
       " [Hard(dimension=0, value=2),\n",
       "  Inclusive(dimension=1, bounds=[4, 5]),\n",
       "  Inclusive(dimension=2, bounds=['b', 'a'])],\n",
       " [Hard(dimension=0, value=2),\n",
       "  Inclusive(dimension=1, bounds=[4, 5]),\n",
       "  Inclusive(dimension=2, bounds=['b', 'a'])]]"
      ]
     },
     "execution_count": 16,
     "metadata": {},
     "output_type": "execute_result"
    }
   ],
   "source": [
    "opt.list_of_constraints"
   ]
  },
  {
   "cell_type": "code",
   "execution_count": 34,
   "metadata": {},
   "outputs": [
    {
     "data": {
      "text/plain": [
       "60.25795161352544"
      ]
     },
     "execution_count": 34,
     "metadata": {},
     "output_type": "execute_result"
    }
   ],
   "source": [
    "f_val = funny_func(next_x)\n",
    "f_val"
   ]
  },
  {
   "cell_type": "code",
   "execution_count": 36,
   "metadata": {},
   "outputs": [],
   "source": [
    "res = opt.tell(next_x, f_val)"
   ]
  },
  {
   "cell_type": "code",
   "execution_count": 37,
   "metadata": {},
   "outputs": [
    {
     "data": {
      "text/plain": [
       "          fun: 60.25795161352544\n",
       "    func_vals: array([60.25795161, 60.25795161])\n",
       "       models: []\n",
       " random_state: <mtrand.RandomState object at 0x7f8fb2b75480>\n",
       "        space: Space([Real(low=1, high=10, prior='uniform', transform='normalize'),\n",
       "       Integer(low=0, high=10),\n",
       "       Categorical(categories=('a', 'b', 'c'), prior=None),\n",
       "       Categorical(categories=('gini', 'entropy'), prior=None)])\n",
       "        specs: None\n",
       "            x: [6.598978939358488, 4, 'c', 'entropy']\n",
       "      x_iters: [[6.598978939358488, 4, 'c', 'entropy'], [6.598978939358488, 4, 'c', 'entropy']]"
      ]
     },
     "execution_count": 37,
     "metadata": {},
     "output_type": "execute_result"
    }
   ],
   "source": [
    "res"
   ]
  },
  {
   "cell_type": "code",
   "execution_count": 22,
   "metadata": {},
   "outputs": [],
   "source": [
    "cons1 = [constraints.Exclusive(0,[1,9]),\n",
    "       constraints.Inclusive(1,[4,5]),\n",
    "        constraints.Hard(1,1)]\n",
    "#cons = [2]"
   ]
  },
  {
   "cell_type": "code",
   "execution_count": 23,
   "metadata": {},
   "outputs": [],
   "source": [
    "cons2 = [constraints.Exclusive(0,[1,9]),\n",
    "       constraints.Inclusive(1,[4,5]),\n",
    "        constraints.Hard(1,1)]\n",
    "#cons = [2]"
   ]
  },
  {
   "cell_type": "code",
   "execution_count": 24,
   "metadata": {},
   "outputs": [
    {
     "name": "stdout",
     "output_type": "stream",
     "text": [
      "True i=0 j=0\n",
      "False i=0 j=1\n",
      "False i=0 j=2\n",
      "False i=1 j=0\n",
      "True i=1 j=1\n",
      "False i=1 j=2\n",
      "False i=2 j=0\n",
      "False i=2 j=1\n",
      "True i=2 j=2\n"
     ]
    }
   ],
   "source": [
    "for i in range(3):\n",
    "    for j in range(3):\n",
    "        print(str(cons1[i]==cons2[j])+' i='+str(i)+' j='+str(j))"
   ]
  },
  {
   "cell_type": "code",
   "execution_count": 25,
   "metadata": {},
   "outputs": [
    {
     "data": {
      "text/plain": [
       "True"
      ]
     },
     "execution_count": 25,
     "metadata": {},
     "output_type": "execute_result"
    }
   ],
   "source": [
    "all([a == b for a, b in zip(cons1, cons2)])"
   ]
  },
  {
   "cell_type": "code",
   "execution_count": 12,
   "metadata": {},
   "outputs": [
    {
     "ename": "TypeError",
     "evalue": "argument of type 'Hard' is not iterable",
     "output_type": "error",
     "traceback": [
      "\u001b[0;31m---------------------------------------------------------------------------\u001b[0m",
      "\u001b[0;31mTypeError\u001b[0m                                 Traceback (most recent call last)",
      "\u001b[0;32m<ipython-input-12-4e8918d7e427>\u001b[0m in \u001b[0;36m<module>\u001b[0;34m\u001b[0m\n\u001b[0;32m----> 1\u001b[0;31m \u001b[0;34m'bounds'\u001b[0m \u001b[0;32min\u001b[0m \u001b[0mcons2\u001b[0m\u001b[0;34m[\u001b[0m\u001b[0;36m2\u001b[0m\u001b[0;34m]\u001b[0m\u001b[0;34m\u001b[0m\u001b[0;34m\u001b[0m\u001b[0m\n\u001b[0m",
      "\u001b[0;31mTypeError\u001b[0m: argument of type 'Hard' is not iterable"
     ]
    }
   ],
   "source": [
    "'bounds' in cons2[2]"
   ]
  },
  {
   "cell_type": "code",
   "execution_count": null,
   "metadata": {},
   "outputs": [],
   "source": [
    "hasattr"
   ]
  },
  {
   "cell_type": "code",
   "execution_count": 18,
   "metadata": {},
   "outputs": [
    {
     "data": {
      "text/plain": [
       "True"
      ]
     },
     "execution_count": 18,
     "metadata": {},
     "output_type": "execute_result"
    }
   ],
   "source": [
    "hasattr(cons2[2],'value')"
   ]
  },
  {
   "cell_type": "code",
   "execution_count": 45,
   "metadata": {},
   "outputs": [
    {
     "data": {
      "text/plain": [
       "False"
      ]
     },
     "execution_count": 45,
     "metadata": {},
     "output_type": "execute_result"
    }
   ],
   "source": [
    "[0,1] == [0,2]"
   ]
  },
  {
   "cell_type": "code",
   "execution_count": 31,
   "metadata": {},
   "outputs": [
    {
     "data": {
      "text/plain": [
       "['__class__',\n",
       " '__delattr__',\n",
       " '__dict__',\n",
       " '__dir__',\n",
       " '__doc__',\n",
       " '__eq__',\n",
       " '__format__',\n",
       " '__ge__',\n",
       " '__getattribute__',\n",
       " '__gt__',\n",
       " '__hash__',\n",
       " '__init__',\n",
       " '__init_subclass__',\n",
       " '__le__',\n",
       " '__lt__',\n",
       " '__module__',\n",
       " '__ne__',\n",
       " '__new__',\n",
       " '__reduce__',\n",
       " '__reduce_ex__',\n",
       " '__repr__',\n",
       " '__setattr__',\n",
       " '__sizeof__',\n",
       " '__str__',\n",
       " '__subclasshook__',\n",
       " '__weakref__',\n",
       " 'dimension',\n",
       " 'type',\n",
       " 'value']"
      ]
     },
     "execution_count": 31,
     "metadata": {},
     "output_type": "execute_result"
    }
   ],
   "source": [
    "dir(opt.constraints[0])\n"
   ]
  },
  {
   "cell_type": "code",
   "execution_count": 18,
   "metadata": {},
   "outputs": [
    {
     "data": {
      "text/plain": [
       "Space([Real(low=1, high=10, prior='uniform', transform='normalize'),\n",
       "       Integer(low=0, high=10),\n",
       "       Categorical(categories=('a', 'b', 'c'), prior=None),\n",
       "       Categorical(categories=('gini', 'entropy'), prior=None)])"
      ]
     },
     "execution_count": 18,
     "metadata": {},
     "output_type": "execute_result"
    }
   ],
   "source": [
    "opt.space"
   ]
  },
  {
   "cell_type": "code",
   "execution_count": 73,
   "metadata": {},
   "outputs": [],
   "source": [
    "opt.remove_constraints()"
   ]
  },
  {
   "cell_type": "code",
   "execution_count": 14,
   "metadata": {},
   "outputs": [],
   "source": [
    "from ProcessOptimizer.space import constraints"
   ]
  },
  {
   "cell_type": "code",
   "execution_count": 15,
   "metadata": {},
   "outputs": [],
   "source": [
    "a = constraints.Constraints(cons,opt.space)"
   ]
  },
  {
   "cell_type": "code",
   "execution_count": 16,
   "metadata": {},
   "outputs": [
    {
     "data": {
      "text/plain": [
       "[Hard(dimension=0, value=1), None, None, None]"
      ]
     },
     "execution_count": 16,
     "metadata": {},
     "output_type": "execute_result"
    }
   ],
   "source": [
    "a.hard"
   ]
  },
  {
   "cell_type": "code",
   "execution_count": null,
   "metadata": {},
   "outputs": [],
   "source": []
  }
 ],
 "metadata": {
  "kernelspec": {
   "display_name": "Python 3",
   "language": "python",
   "name": "python3"
  },
  "language_info": {
   "codemirror_mode": {
    "name": "ipython",
    "version": 3
   },
   "file_extension": ".py",
   "mimetype": "text/x-python",
   "name": "python",
   "nbconvert_exporter": "python",
   "pygments_lexer": "ipython3",
   "version": "3.6.7"
  }
 },
 "nbformat": 4,
 "nbformat_minor": 2
}
